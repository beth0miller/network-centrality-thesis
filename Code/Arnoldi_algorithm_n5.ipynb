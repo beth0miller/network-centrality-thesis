{
 "cells": [
  {
   "cell_type": "code",
   "execution_count": 1,
   "metadata": {},
   "outputs": [],
   "source": [
    "import numpy as np\n",
    "import scipy.sparse as sparse\n",
    "from scipy.linalg import expm, norm\n",
    "from scipy.io import mmread\n",
    "from timeit import default_timer as timer"
   ]
  },
  {
   "cell_type": "code",
   "execution_count": 2,
   "metadata": {},
   "outputs": [
    {
     "data": {
      "text/plain": [
       "array([[0, 0, 1, 0, 0],\n",
       "       [0, 0, 0, 1, 1],\n",
       "       [1, 0, 0, 1, 0],\n",
       "       [0, 1, 1, 0, 1],\n",
       "       [0, 1, 0, 1, 0]])"
      ]
     },
     "execution_count": 2,
     "metadata": {},
     "output_type": "execute_result"
    }
   ],
   "source": [
    "# create adjacency matrix as array\n",
    "\n",
    "A_array = np.array([[0, 0, 1, 0, 0], [0, 0, 0, 1, 1], [1, 0, 0, 1, 0], [0, 1, 1, 0, 1], [0, 1, 0, 1, 0]])\n",
    "A_array"
   ]
  },
  {
   "cell_type": "code",
   "execution_count": 3,
   "metadata": {},
   "outputs": [
    {
     "name": "stdout",
     "output_type": "stream",
     "text": [
      "  (2, 0)\t1\n",
      "  (3, 1)\t1\n",
      "  (4, 1)\t1\n",
      "  (0, 2)\t1\n",
      "  (3, 2)\t1\n",
      "  (1, 3)\t1\n",
      "  (2, 3)\t1\n",
      "  (4, 3)\t1\n",
      "  (1, 4)\t1\n",
      "  (3, 4)\t1\n"
     ]
    }
   ],
   "source": [
    "# create as sparse matrix\n",
    "\n",
    "A = sparse.csc_matrix(A_array)\n",
    "print(A)"
   ]
  },
  {
   "cell_type": "code",
   "execution_count": 4,
   "metadata": {},
   "outputs": [],
   "source": [
    "# Arnoldi algorithm\n",
    "\n",
    "# matrix A for which exp(A)b is of interest, n x n\n",
    "# b initial vector to be used, length n\n",
    "# m, the produced Krylov subspace will have dimension m\n",
    "\n",
    "m = 4\n",
    "\n",
    "def arnoldi_iteration(A, m: int):\n",
    "    b = np.ones(A.shape[0]) # b default to be 1_n\n",
    "    n = A.shape[0]\n",
    "    h = np.zeros((m + 1, m)) # to become the m x m upper Hessenberg matrix consisting of the coefficients h_ij\n",
    "    V = np.zeros((n, m + 1)) # to become the orthonormal basis V_m = [v_1, v_2, ..., v_m]\n",
    "    v = b / norm(b) # makes v a unit 2-norm vector    \n",
    "    V[:, 0] = v # use v as the first Krylov vector\n",
    "    \n",
    "    for j in range(m):\n",
    "        w = A @ v  # compute candidate vector\n",
    "        \n",
    "        for i in range(j + 1):\n",
    "            h[i, j] = V[:,i] @ w # h_ij-th element is product of v_i and w\n",
    "            w = w - h[i, j] * V[:, i] # modified Gram-Schmidt\n",
    "            \n",
    "        h[j + 1, j] = norm(w)\n",
    "        \n",
    "        zero = 1e-12 # small value used as h_ij = 0 threshold\n",
    "        if h[j + 1, j] > zero: # if nonzero add v to the basis\n",
    "            v = w / h[j + 1, j]\n",
    "            V[:, i + 1] = v\n",
    "        else: \n",
    "            return V, h \n",
    "        # print('step',j,'out of',m) # to check how far along algorithm is for larger m\n",
    "    return V, h\n",
    "            \n",
    "            "
   ]
  },
  {
   "cell_type": "code",
   "execution_count": 5,
   "metadata": {},
   "outputs": [],
   "source": [
    "# Arnoldi approximation\n",
    "\n",
    "# exp(A)v ~ beta x V_m x exp(H_m) x e_1 (m-space 1st unit vector [1, 0, 0,..., 0])\n",
    "\n",
    "# get results \n",
    "\n",
    "Vm1, Hm1 = arnoldi_iteration(A, m)\n",
    "\n",
    "Vm, Hm = sparse.csc_matrix(Vm1[:,0:m]), sparse.csc_matrix(Hm1[0:m,0:m])"
   ]
  },
  {
   "cell_type": "code",
   "execution_count": 6,
   "metadata": {},
   "outputs": [
    {
     "name": "stdout",
     "output_type": "stream",
     "text": [
      "check Arnoldi relation   (2, 3)\t-2.220446049250313e-16\n",
      "  (3, 3)\t-1.1102230246251565e-16\n",
      "  (4, 3)\t-2.220446049250313e-16\n",
      "  (0, 3)\t-1.1102230246251565e-16\n",
      "  (1, 3)\t-2.220446049250313e-16\n",
      "check orthogonality [[ 1.00000000e+00  5.55111512e-17  1.38777878e-16 -1.55431223e-16]\n",
      " [ 5.55111512e-17  1.00000000e+00  0.00000000e+00  0.00000000e+00]\n",
      " [ 1.38777878e-16  0.00000000e+00  1.00000000e+00 -2.03960993e-17]\n",
      " [-1.55431223e-16  0.00000000e+00 -2.03960993e-17  1.00000000e+00]]\n"
     ]
    }
   ],
   "source": [
    "# checks\n",
    "\n",
    "print(\"check Arnoldi relation\", A @ Vm - Vm @ Hm) # should be zero matrix (okay)\n",
    "\n",
    "orthog = Vm.transpose() @ Vm\n",
    "print(\"check orthogonality\", orthog.todense()) # should be identity (okay)"
   ]
  },
  {
   "cell_type": "code",
   "execution_count": 7,
   "metadata": {},
   "outputs": [],
   "source": [
    "def a_approximation(A, Vm, Hm, m):\n",
    "    # get beta = ||v||_2\n",
    "    b = np.ones(A.shape[0])\n",
    "    beta = norm(b)\n",
    "\n",
    "    # get unit vector\n",
    "    e1 = np.zeros((m,1))\n",
    "    e1[0] = 1\n",
    "    e1 = sparse.csc_matrix(e1)\n",
    "    \n",
    "    X = beta * Vm @ expm(Hm) @ e1\n",
    "    return X"
   ]
  },
  {
   "cell_type": "code",
   "execution_count": 8,
   "metadata": {},
   "outputs": [
    {
     "data": {
      "text/plain": [
       "array([[ 0.447, -0.707, -0.365,  0.408],\n",
       "       [ 0.447,  0.   ,  0.548, -0.   ],\n",
       "       [ 0.447,  0.   , -0.365, -0.816],\n",
       "       [ 0.447,  0.707, -0.365,  0.408],\n",
       "       [ 0.447,  0.   ,  0.548, -0.   ]])"
      ]
     },
     "execution_count": 8,
     "metadata": {},
     "output_type": "execute_result"
    }
   ],
   "source": [
    "# check Vm\n",
    "np.around(sparse.csc_matrix.toarray(Vm), decimals = 3)"
   ]
  },
  {
   "cell_type": "code",
   "execution_count": 9,
   "metadata": {},
   "outputs": [
    {
     "data": {
      "text/plain": [
       "array([[ 2.   ,  0.632,  0.   , -0.   ],\n",
       "       [ 0.632, -0.   ,  0.775, -0.   ],\n",
       "       [ 0.   ,  0.775,  0.333,  0.745],\n",
       "       [ 0.   ,  0.   ,  0.745, -1.333]])"
      ]
     },
     "execution_count": 9,
     "metadata": {},
     "output_type": "execute_result"
    }
   ],
   "source": [
    "# check Hm\n",
    "np.around(sparse.csc_matrix.toarray(Hm), decimals = 3)"
   ]
  },
  {
   "cell_type": "code",
   "execution_count": 10,
   "metadata": {},
   "outputs": [
    {
     "name": "stdout",
     "output_type": "stream",
     "text": [
      "Arnoldi approximation\n",
      " [[ 4.22592057]\n",
      " [ 9.07757401]\n",
      " [ 7.56993527]\n",
      " [11.44518816]\n",
      " [ 9.07757401]]\n"
     ]
    }
   ],
   "source": [
    "# arnoldi approximation\n",
    "X = a_approximation(A,Vm,Hm, m).todense()\n",
    "print('Arnoldi approximation\\n',X)"
   ]
  },
  {
   "cell_type": "code",
   "execution_count": 11,
   "metadata": {},
   "outputs": [
    {
     "name": "stdout",
     "output_type": "stream",
     "text": [
      "Exact [[ 4.22592057]\n",
      " [ 9.07757401]\n",
      " [ 7.56993527]\n",
      " [11.44518816]\n",
      " [ 9.07757401]]\n"
     ]
    }
   ],
   "source": [
    "# expAb calulated directly\n",
    "b = np.ones(A.shape[0])\n",
    "exact = expm(A) @ sparse.csc_matrix(b.reshape(5,1))\n",
    "print('Exact',exact.todense())"
   ]
  }
 ],
 "metadata": {
  "kernelspec": {
   "display_name": "Python 3",
   "language": "python",
   "name": "python3"
  },
  "language_info": {
   "codemirror_mode": {
    "name": "ipython",
    "version": 3
   },
   "file_extension": ".py",
   "mimetype": "text/x-python",
   "name": "python",
   "nbconvert_exporter": "python",
   "pygments_lexer": "ipython3",
   "version": "3.7.1"
  }
 },
 "nbformat": 4,
 "nbformat_minor": 4
}
