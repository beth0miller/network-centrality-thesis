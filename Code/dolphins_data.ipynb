{
 "cells": [
  {
   "cell_type": "code",
   "execution_count": 1,
   "metadata": {},
   "outputs": [],
   "source": [
    "import numpy as np\n",
    "import scipy.sparse as sparse\n",
    "from scipy.io import mmread\n",
    "from scipy.linalg import expm, norm"
   ]
  },
  {
   "cell_type": "code",
   "execution_count": 2,
   "metadata": {},
   "outputs": [
    {
     "data": {
      "text/plain": [
       "<62x62 sparse matrix of type '<class 'numpy.float64'>'\n",
       "\twith 318 stored elements in Compressed Sparse Row format>"
      ]
     },
     "execution_count": 2,
     "metadata": {},
     "output_type": "execute_result"
    }
   ],
   "source": [
    "dol = mmread('dolphins.mtx').tocsr()\n",
    "dol"
   ]
  },
  {
   "cell_type": "code",
   "execution_count": 3,
   "metadata": {},
   "outputs": [
    {
     "name": "stdout",
     "output_type": "stream",
     "text": [
      "True\n"
     ]
    }
   ],
   "source": [
    "# check symmetric\n",
    "\n",
    "dol_array = sparse.csr_matrix.toarray(dol)\n",
    "print(dol_array.transpose().all() == dol_array.all())"
   ]
  },
  {
   "cell_type": "code",
   "execution_count": null,
   "metadata": {},
   "outputs": [],
   "source": [
    "# get dolphin names dictionary\n",
    "dol_names = 'dolphins_nodename.txt'\n",
    "f = open(dol_names, 'r') # read names text file\n",
    "\n",
    "names = [] #create names list\n",
    "for i in f:\n",
    "    names.append(i.split()[0])\n",
    "    \n",
    "keys = list(range(len(names))) # create dictionary where keys are node number and vals are names\n",
    "names_dict = dict(zip(keys,names))"
   ]
  },
  {
   "cell_type": "code",
   "execution_count": 8,
   "metadata": {},
   "outputs": [
    {
     "name": "stdout",
     "output_type": "stream",
     "text": [
      "The size in memory of the adjacency matrix is 0.003940582275390625 MB\n"
     ]
    }
   ],
   "source": [
    "import sys\n",
    "\n",
    "print(\"The size in memory of the adjacency matrix is {0} MB\".format(\n",
    "    (sys.getsizeof(dol.shape)+\n",
    "    dol.data.nbytes+\n",
    "    dol.indices.nbytes+\n",
    "    dol.indptr.nbytes)/(1024.0**2)\n",
    "))"
   ]
  },
  {
   "cell_type": "code",
   "execution_count": 9,
   "metadata": {},
   "outputs": [],
   "source": [
    "# Arnoldi algorithm\n",
    "\n",
    "# matrix A for which exp(A)b is of interest, n x n\n",
    "\n",
    "# b initial vector to be used, length n\n",
    "\n",
    "# m, the produced Krylov subspace will have dimension m\n",
    "\n",
    "def arnoldi_iteration(A, m: int): \n",
    "    b  = np.ones(A.shape[0])  # b default to be 1_n\n",
    "    \n",
    "    n = A.shape[0]\n",
    "    h = np.zeros((m + 1, m)) # to become the m x m upper Hessenberg matrix consisting of the coefficients h_ij\n",
    "    V = np.zeros((n, m + 1)) # to become the orthonormal basis V_m = [v_1, v_2, ..., v_m]\n",
    "    v = b / norm(b) # makes v a unit 2-norm vector    \n",
    "    V[:, 0] = v # use v as the first Krylov vector\n",
    "    \n",
    "    for j in range(m):\n",
    "        w = A @ v  # compute candidate vector\n",
    "        \n",
    "        for i in range(j + 1):\n",
    "            h[i, j] = V[:,i] @ w # h_ij-th element is product of v_i and w\n",
    "            w = w - h[i, j] * V[:, i] # modified Gram-Schmidt\n",
    "            \n",
    "        h[j + 1, j] = norm(w)\n",
    "        \n",
    "        zero = 1e-12 # small value used as h_ij = 0 threshold\n",
    "        if h[j + 1, j] > zero: # if nonzero add v to the basis\n",
    "            v = w / h[j + 1, j]\n",
    "            V[:, i + 1] = v\n",
    "        else: \n",
    "            return V, h \n",
    "        # print('step',j,'out of',m) # to check how far along algorithm is for larger m\n",
    "    return V, h"
   ]
  },
  {
   "cell_type": "code",
   "execution_count": 10,
   "metadata": {},
   "outputs": [],
   "source": [
    "# Arnoldi approximation\n",
    "\n",
    "# exp(A)v ~ beta x V_m x exp(H_m) x e_1 (m-space 1st unit vector [1, 0, 0,..., 0])"
   ]
  },
  {
   "cell_type": "code",
   "execution_count": 11,
   "metadata": {},
   "outputs": [],
   "source": [
    "# get results \n",
    "\n",
    "m = 100\n",
    "\n",
    "Vm1, Hm1 = arnoldi_iteration(dol, m)\n",
    "\n",
    "Vm, Hm = sparse.csc_matrix(Vm1[:,0:m]), sparse.csc_matrix(Hm1[0:m,0:m])"
   ]
  },
  {
   "cell_type": "code",
   "execution_count": 12,
   "metadata": {},
   "outputs": [
    {
     "name": "stdout",
     "output_type": "stream",
     "text": [
      "check Arnoldi relation [[ 0.00000000e+00  0.00000000e+00  0.00000000e+00 ...  0.00000000e+00\n",
      "   0.00000000e+00  0.00000000e+00]\n",
      " [ 0.00000000e+00 -2.77555756e-17 -5.55111512e-17 ...  0.00000000e+00\n",
      "   0.00000000e+00  0.00000000e+00]\n",
      " [ 0.00000000e+00  5.55111512e-17  0.00000000e+00 ...  0.00000000e+00\n",
      "   0.00000000e+00  0.00000000e+00]\n",
      " ...\n",
      " [ 0.00000000e+00  0.00000000e+00 -1.38777878e-17 ...  0.00000000e+00\n",
      "   0.00000000e+00  0.00000000e+00]\n",
      " [ 2.77555756e-17  2.77555756e-17  4.16333634e-17 ...  0.00000000e+00\n",
      "   0.00000000e+00  0.00000000e+00]\n",
      " [ 0.00000000e+00  0.00000000e+00  0.00000000e+00 ...  0.00000000e+00\n",
      "   0.00000000e+00  0.00000000e+00]]\n",
      "check orthogonality [[ 1.00000000e+00  1.73472348e-18 -3.00107161e-16 ...  0.00000000e+00\n",
      "   0.00000000e+00  0.00000000e+00]\n",
      " [ 1.73472348e-18  1.00000000e+00 -1.83880688e-16 ...  0.00000000e+00\n",
      "   0.00000000e+00  0.00000000e+00]\n",
      " [-3.00107161e-16 -1.83880688e-16  1.00000000e+00 ...  0.00000000e+00\n",
      "   0.00000000e+00  0.00000000e+00]\n",
      " ...\n",
      " [ 0.00000000e+00  0.00000000e+00  0.00000000e+00 ...  0.00000000e+00\n",
      "   0.00000000e+00  0.00000000e+00]\n",
      " [ 0.00000000e+00  0.00000000e+00  0.00000000e+00 ...  0.00000000e+00\n",
      "   0.00000000e+00  0.00000000e+00]\n",
      " [ 0.00000000e+00  0.00000000e+00  0.00000000e+00 ...  0.00000000e+00\n",
      "   0.00000000e+00  0.00000000e+00]]\n"
     ]
    }
   ],
   "source": [
    "# checks\n",
    "zero = dol @ Vm - Vm @ Hm\n",
    "print(\"check Arnoldi relation\", zero.todense()) # should be zero matrix \n",
    "orthog = Vm.transpose() @ Vm\n",
    "print(\"check orthogonality\", orthog.todense()) # should be identity "
   ]
  },
  {
   "cell_type": "code",
   "execution_count": 13,
   "metadata": {},
   "outputs": [],
   "source": [
    "def a_approximation(A, Vm, Hm, m):\n",
    "    # get beta = ||v||_2\n",
    "    b = np.ones(A.shape[0])\n",
    "    beta = norm(b)\n",
    "\n",
    "    # get unit vector\n",
    "    e1 = np.zeros((m,1))\n",
    "    e1[0] = 1\n",
    "    e1 = sparse.csc_matrix(e1)\n",
    "    \n",
    "    X = beta * Vm @ expm(Hm) @ e1\n",
    "    return X"
   ]
  },
  {
   "cell_type": "code",
   "execution_count": 14,
   "metadata": {},
   "outputs": [],
   "source": [
    "expab = a_approximation(dol, Vm, Hm, m)"
   ]
  },
  {
   "cell_type": "code",
   "execution_count": 15,
   "metadata": {},
   "outputs": [
    {
     "data": {
      "text/plain": [
       "14"
      ]
     },
     "execution_count": 15,
     "metadata": {},
     "output_type": "execute_result"
    }
   ],
   "source": [
    "# max\n",
    "expab.argmax()"
   ]
  },
  {
   "cell_type": "code",
   "execution_count": 16,
   "metadata": {},
   "outputs": [
    {
     "data": {
      "text/plain": [
       "60"
      ]
     },
     "execution_count": 16,
     "metadata": {},
     "output_type": "execute_result"
    }
   ],
   "source": [
    "# min\n",
    "expab.argmin()"
   ]
  },
  {
   "cell_type": "code",
   "execution_count": 17,
   "metadata": {},
   "outputs": [
    {
     "name": "stdout",
     "output_type": "stream",
     "text": [
      "Loneliest dolphin is Zig\n"
     ]
    }
   ],
   "source": [
    "print('Loneliest dolphin is',names_dict[60])"
   ]
  },
  {
   "cell_type": "code",
   "execution_count": 18,
   "metadata": {},
   "outputs": [
    {
     "name": "stdout",
     "output_type": "stream",
     "text": [
      "Most popular dolphin is Grin\n"
     ]
    }
   ],
   "source": [
    "print('Most popular dolphin is',names_dict[14])"
   ]
  }
 ],
 "metadata": {
  "kernelspec": {
   "display_name": "Python 3",
   "language": "python",
   "name": "python3"
  },
  "language_info": {
   "codemirror_mode": {
    "name": "ipython",
    "version": 3
   },
   "file_extension": ".py",
   "mimetype": "text/x-python",
   "name": "python",
   "nbconvert_exporter": "python",
   "pygments_lexer": "ipython3",
   "version": "3.7.1"
  }
 },
 "nbformat": 4,
 "nbformat_minor": 4
}
