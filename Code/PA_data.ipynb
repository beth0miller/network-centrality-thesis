{
 "cells": [
  {
   "cell_type": "code",
   "execution_count": 1,
   "metadata": {},
   "outputs": [],
   "source": [
    "import numpy as np\n",
    "from  scipy import sparse\n",
    "from scipy.linalg import expm, norm\n",
    "from timeit import default_timer as timer\n",
    "from scipy import io"
   ]
  },
  {
   "cell_type": "code",
   "execution_count": 2,
   "metadata": {},
   "outputs": [],
   "source": [
    "DATASET_ORIGINAL  = 'roadNet-PA.txt'"
   ]
  },
  {
   "cell_type": "code",
   "execution_count": 3,
   "metadata": {},
   "outputs": [],
   "source": [
    "def datasetCHECK(data):\n",
    "    row = []\n",
    "    col = []    \n",
    "    f = open(data, 'r')\n",
    "    for x in f:\n",
    "        row_val = int(x.split()[1])\n",
    "        col_val = int(x.split()[0])\n",
    "        row.append(row_val)\n",
    "        col.append(col_val)\n",
    "    return(row, col)#sparse.csr_matrix(([1]*EDGES,(row,col)),shape=(NODES,NODES)))"
   ]
  },
  {
   "cell_type": "code",
   "execution_count": 4,
   "metadata": {},
   "outputs": [],
   "source": [
    "row, col = datasetCHECK(DATASET_ORIGINAL)"
   ]
  },
  {
   "cell_type": "code",
   "execution_count": 5,
   "metadata": {},
   "outputs": [
    {
     "data": {
      "text/plain": [
       "1090919"
      ]
     },
     "execution_count": 5,
     "metadata": {},
     "output_type": "execute_result"
    }
   ],
   "source": [
    "# checking number of nodes (doesnt match given)\n",
    "max(row)"
   ]
  },
  {
   "cell_type": "code",
   "execution_count": 6,
   "metadata": {},
   "outputs": [
    {
     "data": {
      "text/plain": [
       "3083796"
      ]
     },
     "execution_count": 6,
     "metadata": {},
     "output_type": "execute_result"
    }
   ],
   "source": [
    "len(col)"
   ]
  },
  {
   "cell_type": "code",
   "execution_count": 7,
   "metadata": {},
   "outputs": [
    {
     "data": {
      "text/plain": [
       "1541898.0"
      ]
     },
     "execution_count": 7,
     "metadata": {},
     "output_type": "execute_result"
    }
   ],
   "source": [
    "# edges match\n",
    "len(col) / 2"
   ]
  },
  {
   "cell_type": "code",
   "execution_count": 8,
   "metadata": {},
   "outputs": [],
   "source": [
    "EDGES = 1541898 * 2\n",
    "NODES = 1090920"
   ]
  },
  {
   "cell_type": "code",
   "execution_count": 9,
   "metadata": {},
   "outputs": [],
   "source": [
    "# create graph\n",
    "def dataset2csr(data):\n",
    "    row = []\n",
    "    col = []    \n",
    "    f = open(data, 'r')\n",
    "    for x in f:\n",
    "        row_val = int(x.split()[1])\n",
    "        col_val = int(x.split()[0])\n",
    "        row.append(row_val)\n",
    "        col.append(col_val)\n",
    "    return(sparse.csr_matrix(([1]*EDGES,(row,col)),shape=(NODES,NODES)))"
   ]
  },
  {
   "cell_type": "code",
   "execution_count": 10,
   "metadata": {},
   "outputs": [],
   "source": [
    "pa = dataset2csr(DATASET_ORIGINAL)"
   ]
  },
  {
   "cell_type": "code",
   "execution_count": 11,
   "metadata": {},
   "outputs": [
    {
     "data": {
      "text/plain": [
       "3083796"
      ]
     },
     "execution_count": 11,
     "metadata": {},
     "output_type": "execute_result"
    }
   ],
   "source": [
    "# nonzero\n",
    "pa.count_nonzero()"
   ]
  },
  {
   "cell_type": "code",
   "execution_count": 12,
   "metadata": {},
   "outputs": [
    {
     "name": "stdout",
     "output_type": "stream",
     "text": [
      "The size in memory of the adjacency matrix is 27.689090728759766 MB\n"
     ]
    }
   ],
   "source": [
    "import sys\n",
    "\n",
    "print(\"The size in memory of the adjacency matrix is {0} MB\".format(\n",
    "    (sys.getsizeof(pa.shape)+\n",
    "    pa.data.nbytes+\n",
    "    pa.indices.nbytes+\n",
    "    pa.indptr.nbytes)/(1024.0**2)\n",
    "))"
   ]
  },
  {
   "cell_type": "code",
   "execution_count": 13,
   "metadata": {},
   "outputs": [],
   "source": [
    "io.mmwrite('PA.mtx',pa)"
   ]
  },
  {
   "cell_type": "code",
   "execution_count": null,
   "metadata": {},
   "outputs": [],
   "source": []
  }
 ],
 "metadata": {
  "kernelspec": {
   "display_name": "Python 3",
   "language": "python",
   "name": "python3"
  },
  "language_info": {
   "codemirror_mode": {
    "name": "ipython",
    "version": 3
   },
   "file_extension": ".py",
   "mimetype": "text/x-python",
   "name": "python",
   "nbconvert_exporter": "python",
   "pygments_lexer": "ipython3",
   "version": "3.7.1"
  }
 },
 "nbformat": 4,
 "nbformat_minor": 4
}
