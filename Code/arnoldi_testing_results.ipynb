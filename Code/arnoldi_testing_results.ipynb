{
 "cells": [
  {
   "cell_type": "code",
   "execution_count": 1,
   "metadata": {},
   "outputs": [],
   "source": [
    "import numpy as np\n",
    "import scipy.sparse as sparse\n",
    "from scipy.io import mmread\n",
    "from scipy.linalg import expm, norm\n",
    "from timeit import default_timer as timer"
   ]
  },
  {
   "cell_type": "code",
   "execution_count": 2,
   "metadata": {},
   "outputs": [],
   "source": [
    "# download datasets\n",
    "dol = mmread('dolphins.mtx').tocsr()\n",
    "fb = mmread('facebook.mtx').tocsr()\n",
    "pa = mmread('PA.mtx').tocsr()"
   ]
  },
  {
   "cell_type": "code",
   "execution_count": 3,
   "metadata": {},
   "outputs": [],
   "source": [
    "# get dolphin names dictionary\n",
    "dol_names = 'dolphins_nodename.txt'\n",
    "f = open(dol_names, 'r') # read names text file\n",
    "\n",
    "names = [] #create names list\n",
    "for i in f:\n",
    "    names.append(i.split()[0])\n",
    "    \n",
    "keys = list(range(len(names))) # create dictionary where keys are node number and vals are names\n",
    "names_dict = dict(zip(keys,names))"
   ]
  },
  {
   "cell_type": "code",
   "execution_count": 4,
   "metadata": {},
   "outputs": [],
   "source": [
    "# Arnoldi algorithm\n",
    "\n",
    "# matrix A for which exp(A)b is of interest, n x n\n",
    "# b initial vector to be used, length n\n",
    "# m, the produced Krylov subspace will have dimension m\n",
    "\n",
    "def arnoldi_iteration(A, m: int): \n",
    "    b  = np.ones(A.shape[0])  # b default to be 1_n\n",
    "    \n",
    "    n = A.shape[0]\n",
    "    h = np.zeros((m + 1, m)) # to become the m x m upper Hessenberg matrix consisting of the coefficients h_ij\n",
    "    V = np.zeros((n, m + 1)) # to become the orthonormal basis V_m = [v_1, v_2, ..., v_m]\n",
    "    v = b / norm(b) # makes v a unit 2-norm vector    \n",
    "    V[:, 0] = v # use v as the first Krylov vector\n",
    "    \n",
    "    for j in range(m):\n",
    "        w = A @ v  # compute candidate vector\n",
    "        \n",
    "        for i in range(j + 1):\n",
    "            h[i, j] = V[:,i] @ w # h_ij-th element is product of v_i and w\n",
    "            w = w - h[i, j] * V[:, i] # modified Gram-Schmidt\n",
    "            \n",
    "        h[j + 1, j] = norm(w)\n",
    "        \n",
    "        zero = 1e-12 # small value used as h_ij = 0 threshold\n",
    "        if h[j + 1, j] > zero: # if nonzero add v to the basis\n",
    "            v = w / h[j + 1, j]\n",
    "            V[:, i + 1] = v\n",
    "        else: \n",
    "            return V, h \n",
    "        # print('step',j,'out of',m) # to check how far along algorithm is for larger m\n",
    "    return V, h"
   ]
  },
  {
   "cell_type": "code",
   "execution_count": 5,
   "metadata": {},
   "outputs": [],
   "source": [
    "# get Vm and Hm from output\n",
    "def get_m(Vm1,Hm1,m):\n",
    "    Vm, Hm = sparse.csc_matrix(Vm1[:,0:m]), sparse.csc_matrix(Hm1[0:m,0:m])\n",
    "    return Vm, Hm"
   ]
  },
  {
   "cell_type": "code",
   "execution_count": 6,
   "metadata": {},
   "outputs": [],
   "source": [
    "# get approximation from arnoldi result\n",
    "def a_approximation(A, Vm, Hm, m):\n",
    "    # get beta = ||v||_2\n",
    "    b = np.ones(A.shape[0])\n",
    "    beta = norm(b)\n",
    "\n",
    "    # get unit vector\n",
    "    e1 = np.zeros((m,1))\n",
    "    e1[0] = 1\n",
    "    e1 = sparse.csc_matrix(e1)\n",
    "    \n",
    "    X = beta * Vm @ expm(Hm) @ e1\n",
    "    return X"
   ]
  },
  {
   "cell_type": "code",
   "execution_count": 7,
   "metadata": {},
   "outputs": [],
   "source": [
    "########## RESULTS"
   ]
  },
  {
   "cell_type": "code",
   "execution_count": 8,
   "metadata": {},
   "outputs": [
    {
     "data": {
      "text/plain": [
       "matrix([[ 0.        ,  0.        ,  0.        ,  0.        ,  0.        ,\n",
       "          0.        ,  0.        ,  0.        ,  0.        ,  0.        ,\n",
       "          0.        ,  0.        ,  0.        ,  0.        ,  0.        ,\n",
       "          0.        ,  0.        ,  0.        ,  0.        ,  0.        ,\n",
       "          0.        ,  0.        ,  0.        ,  1.59088851, -0.70742389]])"
      ]
     },
     "execution_count": 8,
     "metadata": {},
     "output_type": "execute_result"
    }
   ],
   "source": [
    "# dolphins\n",
    "\n",
    "m = 25\n",
    "\n",
    "dolV, dolH = arnoldi_iteration(dol, m)\n",
    "V, H = get_m(dolV,dolH,m)\n",
    "dol_res = a_approximation(dol, V, H,m)\n",
    "\n",
    "# check H doen't go to all zeros for this m with PA by looking at last column\n",
    "H[-1].todense()"
   ]
  },
  {
   "cell_type": "code",
   "execution_count": 9,
   "metadata": {},
   "outputs": [
    {
     "data": {
      "text/plain": [
       "matrix([[0.        , 0.        , 0.        , 0.        , 0.        ,\n",
       "         0.        , 0.        , 0.        , 0.        , 0.        ,\n",
       "         0.        , 0.        , 0.        , 0.        , 0.        ,\n",
       "         0.        , 0.        , 0.        , 0.        , 0.        ,\n",
       "         0.        , 0.        , 0.        , 0.        , 0.        ,\n",
       "         0.        , 0.        , 0.        , 0.        , 0.        ,\n",
       "         0.        , 0.        , 0.        , 0.        , 0.        ,\n",
       "         0.        , 0.        , 0.        , 0.        , 0.        ,\n",
       "         0.        , 0.        , 0.        , 0.        , 0.        ,\n",
       "         0.        , 0.        , 0.        , 0.        , 0.        ,\n",
       "         0.        , 0.        , 0.        , 0.        , 0.        ,\n",
       "         0.        , 0.        , 0.        , 0.        , 0.        ,\n",
       "         0.        , 0.        , 0.        , 0.        , 0.        ,\n",
       "         0.        , 0.        , 0.        , 0.        , 0.        ,\n",
       "         0.        , 0.        , 0.        , 0.        , 0.        ,\n",
       "         0.        , 0.        , 0.        , 0.        , 0.        ,\n",
       "         0.        , 0.        , 0.        , 0.        , 0.        ,\n",
       "         0.        , 0.        , 0.        , 0.        , 0.        ,\n",
       "         0.        , 0.        , 0.        , 0.        , 0.        ,\n",
       "         0.        , 0.        , 0.        , 9.01274146, 4.56246443]])"
      ]
     },
     "execution_count": 9,
     "metadata": {},
     "output_type": "execute_result"
    }
   ],
   "source": [
    "# facebook\n",
    "\n",
    "m = 100\n",
    "\n",
    "fbV, fbH = arnoldi_iteration(fb, m)\n",
    "V, H = get_m(fbV,fbH,m)\n",
    "fb_res = a_approximation(fb, V, H,m)\n",
    "\n",
    "# check H doen't go to all zeros for this m with PA by looking at last column\n",
    "H[-1].todense()"
   ]
  },
  {
   "cell_type": "code",
   "execution_count": 10,
   "metadata": {},
   "outputs": [
    {
     "data": {
      "text/plain": [
       "matrix([[0.        , 0.        , 0.        , 0.        , 0.        ,\n",
       "         0.        , 0.        , 0.        , 0.        , 0.        ,\n",
       "         0.        , 0.        , 0.        , 0.        , 0.        ,\n",
       "         0.        , 0.        , 0.        , 0.        , 0.        ,\n",
       "         0.        , 0.        , 0.        , 0.        , 0.        ,\n",
       "         0.        , 0.        , 0.        , 0.        , 0.        ,\n",
       "         0.        , 0.        , 0.        , 0.        , 0.        ,\n",
       "         0.        , 0.        , 0.        , 0.        , 0.        ,\n",
       "         0.        , 0.        , 0.        , 0.        , 0.        ,\n",
       "         0.        , 0.        , 0.        , 0.        , 0.        ,\n",
       "         0.        , 0.        , 0.        , 0.        , 0.        ,\n",
       "         0.        , 0.        , 0.        , 0.        , 0.        ,\n",
       "         0.        , 0.        , 0.        , 0.        , 0.        ,\n",
       "         0.        , 0.        , 0.        , 0.        , 0.        ,\n",
       "         0.        , 0.        , 0.        , 0.        , 0.        ,\n",
       "         0.        , 0.        , 0.        , 0.        , 0.        ,\n",
       "         0.        , 0.        , 0.        , 0.        , 0.        ,\n",
       "         0.        , 0.        , 0.        , 0.        , 0.        ,\n",
       "         0.        , 0.        , 0.        , 0.        , 0.        ,\n",
       "         0.        , 0.        , 0.        , 1.97874389, 0.12708729]])"
      ]
     },
     "execution_count": 10,
     "metadata": {},
     "output_type": "execute_result"
    }
   ],
   "source": [
    "# pennsylvania\n",
    "\n",
    "m = 100\n",
    "\n",
    "paV, paH = arnoldi_iteration(pa, m)\n",
    "V, H = get_m(paV,paH,m)\n",
    "pa_res = a_approximation(pa, V, H,m)\n",
    "\n",
    "# check H doen't go to all zeros for this m with PA by looking at last column\n",
    "H[-1].todense()"
   ]
  },
  {
   "cell_type": "code",
   "execution_count": null,
   "metadata": {},
   "outputs": [],
   "source": [
    "# Results (node counting from 1 not 0)"
   ]
  },
  {
   "cell_type": "code",
   "execution_count": 11,
   "metadata": {},
   "outputs": [],
   "source": [
    "# Dolphins: get most and least central nodes for "
   ]
  },
  {
   "cell_type": "code",
   "execution_count": 18,
   "metadata": {},
   "outputs": [
    {
     "name": "stdout",
     "output_type": "stream",
     "text": [
      "Central-most node is 15 , with value 2314.949993033023 ,which represents Grin\n"
     ]
    }
   ],
   "source": [
    "print('Central-most node is', dol_res.argmax() +1,', with value',dol_res.max(),',which represents', names_dict[dol_res.argmax()])"
   ]
  },
  {
   "cell_type": "code",
   "execution_count": 19,
   "metadata": {},
   "outputs": [
    {
     "name": "stdout",
     "output_type": "stream",
     "text": [
      "Least central node is 61 , with value 33.41912649100891 ,which represents Zig\n"
     ]
    }
   ],
   "source": [
    "print('Least central node is', dol_res.argmin() +1,', with value',dol_res.min(),',which represents', names_dict[dol_res.argmin()])"
   ]
  },
  {
   "cell_type": "code",
   "execution_count": 14,
   "metadata": {},
   "outputs": [],
   "source": [
    "# Facebook: get most and least central nodes"
   ]
  },
  {
   "cell_type": "code",
   "execution_count": 23,
   "metadata": {},
   "outputs": [
    {
     "name": "stdout",
     "output_type": "stream",
     "text": [
      "Central-most node is 1913 , with value 4.9056691536452307e+70\n"
     ]
    }
   ],
   "source": [
    "print('Central-most node is', fb_res.argmax() +1,', with value',fb_res.max())"
   ]
  },
  {
   "cell_type": "code",
   "execution_count": 25,
   "metadata": {},
   "outputs": [
    {
     "name": "stdout",
     "output_type": "stream",
     "text": [
      "Least central node is 693 , with value 1.8690838011151774e+58\n"
     ]
    }
   ],
   "source": [
    "print('Least central node is', fb_res.argmin() +1,', with value',fb_res.min())"
   ]
  },
  {
   "cell_type": "code",
   "execution_count": 26,
   "metadata": {},
   "outputs": [],
   "source": [
    "# PA: get most and leasat central nodes"
   ]
  },
  {
   "cell_type": "code",
   "execution_count": 27,
   "metadata": {},
   "outputs": [
    {
     "name": "stdout",
     "output_type": "stream",
     "text": [
      "Central-most node is 847933 , with value 188.05911061957053\n"
     ]
    }
   ],
   "source": [
    "print('Central-most node is', pa_res.argmax() +1,', with value',pa_res.max())"
   ]
  },
  {
   "cell_type": "code",
   "execution_count": 28,
   "metadata": {},
   "outputs": [
    {
     "name": "stdout",
     "output_type": "stream",
     "text": [
      "Least central node is 664 , with value 0.9999999999999964\n"
     ]
    }
   ],
   "source": [
    "print('Least central node is', pa_res.argmin() +1,', with value',pa_res.min())"
   ]
  },
  {
   "cell_type": "code",
   "execution_count": 15,
   "metadata": {},
   "outputs": [],
   "source": [
    "########## DOLPHIN ERROR PLOT"
   ]
  },
  {
   "cell_type": "code",
   "execution_count": 16,
   "metadata": {},
   "outputs": [],
   "source": [
    "########## FACEBOOK ERROR PLOT"
   ]
  },
  {
   "cell_type": "code",
   "execution_count": 17,
   "metadata": {},
   "outputs": [],
   "source": [
    "########## PA TIMINGS BAR CHART "
   ]
  }
 ],
 "metadata": {
  "kernelspec": {
   "display_name": "Python 3",
   "language": "python",
   "name": "python3"
  },
  "language_info": {
   "codemirror_mode": {
    "name": "ipython",
    "version": 3
   },
   "file_extension": ".py",
   "mimetype": "text/x-python",
   "name": "python",
   "nbconvert_exporter": "python",
   "pygments_lexer": "ipython3",
   "version": "3.7.1"
  }
 },
 "nbformat": 4,
 "nbformat_minor": 4
}
