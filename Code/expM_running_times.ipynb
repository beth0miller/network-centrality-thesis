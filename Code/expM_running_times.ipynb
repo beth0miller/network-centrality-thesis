{
 "cells": [
  {
   "cell_type": "code",
   "execution_count": 1,
   "metadata": {},
   "outputs": [],
   "source": [
    "import numpy as np\n",
    "import matplotlib.pyplot as plt\n",
    "import scipy.sparse as sparse\n",
    "from scipy.linalg import expm, sinm, cosm\n",
    "\n",
    "from scipy.io import mmread\n",
    "from timeit import default_timer as timer\n"
   ]
  },
  {
   "cell_type": "code",
   "execution_count": 2,
   "metadata": {},
   "outputs": [
    {
     "name": "stdout",
     "output_type": "stream",
     "text": [
      "size of the ~2000 matrix is (1960, 1960)\n"
     ]
    }
   ],
   "source": [
    "A_2 = mmread('n1960.mtx').tocsc()\n",
    "print('size of the ~2000 matrix is', A_2.shape)"
   ]
  },
  {
   "cell_type": "code",
   "execution_count": 3,
   "metadata": {},
   "outputs": [
    {
     "name": "stdout",
     "output_type": "stream",
     "text": [
      "this took 144.9461994 seconds 4\n"
     ]
    }
   ],
   "source": [
    "start = timer()\n",
    "for i in range(5):   # we run this 5 times to get more reliable timings\n",
    "    expA = expm(A_2)\n",
    "end = timer()\n",
    "\n",
    "print('this took', (end - start)/(i+1), 'seconds', i) # Time in seconds\n",
    "\n",
    "A_2_time = (end - start)/(i+1)"
   ]
  },
  {
   "cell_type": "code",
   "execution_count": 4,
   "metadata": {},
   "outputs": [
    {
     "name": "stdout",
     "output_type": "stream",
     "text": [
      "size of the ~4000 matrix is (4096, 4096)\n"
     ]
    }
   ],
   "source": [
    "A_4 = mmread('n4096.mtx').tocsc()\n",
    "print('size of the ~4000 matrix is', A_4.shape)"
   ]
  },
  {
   "cell_type": "code",
   "execution_count": 5,
   "metadata": {},
   "outputs": [
    {
     "name": "stdout",
     "output_type": "stream",
     "text": [
      "this took 272.41423652 seconds 4\n"
     ]
    }
   ],
   "source": [
    "start = timer()\n",
    "for i in range(5):   # we run this 5 times to get more reliable timings\n",
    "    expA = expm(A_4)\n",
    "end = timer()\n",
    "\n",
    "print('this took', (end - start)/(i+1), 'seconds', i) # Time in seconds\n",
    "\n",
    "A_4_time = (end - start)/(i+1)"
   ]
  },
  {
   "cell_type": "code",
   "execution_count": 6,
   "metadata": {
    "scrolled": true
   },
   "outputs": [
    {
     "name": "stdout",
     "output_type": "stream",
     "text": [
      "size of the ~6000 matrix is (6019, 6019)\n"
     ]
    }
   ],
   "source": [
    "A_6 = mmread('n6019.mtx').tocsc()\n",
    "print('size of the ~6000 matrix is', A_6.shape)"
   ]
  },
  {
   "cell_type": "code",
   "execution_count": 7,
   "metadata": {},
   "outputs": [
    {
     "name": "stdout",
     "output_type": "stream",
     "text": [
      "this took 689.7256524800001 seconds 4\n"
     ]
    }
   ],
   "source": [
    "start = timer()\n",
    "for i in range(5):   # we run this 5 times to get more reliable timings\n",
    "    expA = expm(A_6)\n",
    "end = timer()\n",
    "\n",
    "print('this took', (end - start)/(i+1), 'seconds', i) # Time in seconds\n",
    "\n",
    "A_6_time = (end - start)/(i+1)"
   ]
  },
  {
   "cell_type": "code",
   "execution_count": 12,
   "metadata": {},
   "outputs": [
    {
     "name": "stdout",
     "output_type": "stream",
     "text": [
      "size of the ~8000 matrix is (7920, 7920)\n"
     ]
    }
   ],
   "source": [
    "A_8 = mmread('n7920.mtx').tocsc()\n",
    "print('size of the ~8000 matrix is', A_8.shape)"
   ]
  },
  {
   "cell_type": "code",
   "execution_count": 13,
   "metadata": {},
   "outputs": [
    {
     "name": "stdout",
     "output_type": "stream",
     "text": [
      "this took 131.9968203800003 seconds 4\n"
     ]
    }
   ],
   "source": [
    "start = timer()\n",
    "for i in range(5):   # we run this 5 times to get more reliable timings\n",
    "    expA = expm(A_8)\n",
    "end = timer()\n",
    "\n",
    "print('this took', (end - start)/(i+1), 'seconds', i) # Time in seconds\n",
    "\n",
    "A_8_time = (end - start)/(i+1)"
   ]
  },
  {
   "cell_type": "code",
   "execution_count": 14,
   "metadata": {},
   "outputs": [
    {
     "name": "stdout",
     "output_type": "stream",
     "text": [
      "Times rounded to 3dp: 144.946 272.414 689.726 131.997\n"
     ]
    }
   ],
   "source": [
    "print('Times rounded to 3dp:','{:.3f}'.format(A_2_time),\n",
    "'{:.3f}'.format(A_4_time),\n",
    "'{:.3f}'.format(A_6_time),\n",
    "'{:.3f}'.format(A_8_time))"
   ]
  },
  {
   "cell_type": "code",
   "execution_count": null,
   "metadata": {},
   "outputs": [],
   "source": []
  }
 ],
 "metadata": {
  "kernelspec": {
   "display_name": "Python 3",
   "language": "python",
   "name": "python3"
  },
  "language_info": {
   "codemirror_mode": {
    "name": "ipython",
    "version": 3
   },
   "file_extension": ".py",
   "mimetype": "text/x-python",
   "name": "python",
   "nbconvert_exporter": "python",
   "pygments_lexer": "ipython3",
   "version": "3.7.1"
  }
 },
 "nbformat": 4,
 "nbformat_minor": 4
}
