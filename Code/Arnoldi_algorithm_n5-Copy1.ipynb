{
 "cells": [
  {
   "cell_type": "code",
   "execution_count": 1,
   "metadata": {},
   "outputs": [],
   "source": [
    "import numpy as np\n",
    "import scipy.sparse as sparse\n",
    "from scipy.linalg import expm, norm\n",
    "from scipy.io import mmread\n",
    "from timeit import default_timer as timer\n"
   ]
  },
  {
   "cell_type": "code",
   "execution_count": 2,
   "metadata": {},
   "outputs": [
    {
     "data": {
      "text/plain": [
       "array([[0, 0, 1, 0, 0],\n",
       "       [0, 0, 0, 1, 1],\n",
       "       [1, 0, 0, 1, 0],\n",
       "       [0, 1, 1, 0, 1],\n",
       "       [0, 1, 0, 1, 0]])"
      ]
     },
     "execution_count": 2,
     "metadata": {},
     "output_type": "execute_result"
    }
   ],
   "source": [
    "# create adjacency matrix as array\n",
    "\n",
    "A_array = np.array([[0, 0, 1, 0, 0], [0, 0, 0, 1, 1], [1, 0, 0, 1, 0], [0, 1, 1, 0, 1], [0, 1, 0, 1, 0]])\n",
    "A_array"
   ]
  },
  {
   "cell_type": "code",
   "execution_count": 3,
   "metadata": {},
   "outputs": [
    {
     "name": "stdout",
     "output_type": "stream",
     "text": [
      "  (2, 0)\t1\n",
      "  (3, 1)\t1\n",
      "  (4, 1)\t1\n",
      "  (0, 2)\t1\n",
      "  (3, 2)\t1\n",
      "  (1, 3)\t1\n",
      "  (2, 3)\t1\n",
      "  (4, 3)\t1\n",
      "  (1, 4)\t1\n",
      "  (3, 4)\t1\n"
     ]
    }
   ],
   "source": [
    "# create as sparse matrix\n",
    "\n",
    "A = sparse.csc_matrix(A_array)\n",
    "print(A)"
   ]
  },
  {
   "cell_type": "code",
   "execution_count": 4,
   "metadata": {},
   "outputs": [
    {
     "name": "stdout",
     "output_type": "stream",
     "text": [
      "  (0, 0)\t1.5926873357152362\n",
      "  (1, 0)\t0.2656190865440594\n",
      "  (2, 0)\t1.3912135792878675\n",
      "  (3, 0)\t0.7107814780509464\n",
      "  (4, 0)\t0.26561908654405947\n",
      "  (0, 1)\t0.26561908654405947\n",
      "  (1, 1)\t2.78510028595431\n",
      "  (2, 1)\t0.9764005645950063\n",
      "  (3, 1)\t2.6332332304269346\n",
      "  (4, 1)\t2.417220844782868\n",
      "  (0, 2)\t1.3912135792878675\n",
      "  (1, 2)\t0.9764005645950061\n",
      "  (2, 2)\t2.303468813766183\n",
      "  (3, 2)\t1.922451752375987\n",
      "  (4, 2)\t0.9764005645950061\n",
      "  (0, 3)\t0.7107814780509464\n",
      "  (1, 3)\t2.6332332304269337\n",
      "  (2, 3)\t1.9224517523759868\n",
      "  (3, 3)\t3.545488464905249\n",
      "  (4, 3)\t2.6332332304269337\n",
      "  (0, 4)\t0.26561908654405936\n",
      "  (1, 4)\t2.4172208447828676\n",
      "  (2, 4)\t0.9764005645950061\n",
      "  (3, 4)\t2.633233230426934\n",
      "  (4, 4)\t2.7851002859543104\n"
     ]
    }
   ],
   "source": [
    "# calculate exponential using A_csc\n",
    "\n",
    "expA = expm(A)\n",
    "\n",
    "print(expA)"
   ]
  },
  {
   "cell_type": "code",
   "execution_count": 5,
   "metadata": {},
   "outputs": [
    {
     "data": {
      "text/plain": [
       "matrix([[1.59268734, 0.26561909, 1.39121358, 0.71078148, 0.26561909],\n",
       "        [0.26561909, 2.78510029, 0.97640056, 2.63323323, 2.41722084],\n",
       "        [1.39121358, 0.97640056, 2.30346881, 1.92245175, 0.97640056],\n",
       "        [0.71078148, 2.63323323, 1.92245175, 3.54548846, 2.63323323],\n",
       "        [0.26561909, 2.41722084, 0.97640056, 2.63323323, 2.78510029]])"
      ]
     },
     "execution_count": 5,
     "metadata": {},
     "output_type": "execute_result"
    }
   ],
   "source": [
    "# put back into dense matrix\n",
    "mtx_expA = expA.todense()\n",
    "mtx_expA"
   ]
  },
  {
   "cell_type": "code",
   "execution_count": 6,
   "metadata": {},
   "outputs": [
    {
     "data": {
      "text/plain": [
       "array([1.59268734, 2.78510029, 2.30346881, 3.54548846, 2.78510029])"
      ]
     },
     "execution_count": 6,
     "metadata": {},
     "output_type": "execute_result"
    }
   ],
   "source": [
    "# read off diagonal values\n",
    "np.diagonal(mtx_expA)"
   ]
  },
  {
   "cell_type": "code",
   "execution_count": 7,
   "metadata": {},
   "outputs": [
    {
     "name": "stdout",
     "output_type": "stream",
     "text": [
      "13.01184518629529\n"
     ]
    }
   ],
   "source": [
    "print(np.trace(mtx_expA))"
   ]
  },
  {
   "cell_type": "code",
   "execution_count": 8,
   "metadata": {},
   "outputs": [
    {
     "data": {
      "text/plain": [
       "3.1622776601683795"
      ]
     },
     "execution_count": 8,
     "metadata": {},
     "output_type": "execute_result"
    }
   ],
   "source": [
    "norm(A.todense())"
   ]
  },
  {
   "cell_type": "code",
   "execution_count": 9,
   "metadata": {},
   "outputs": [
    {
     "name": "stdout",
     "output_type": "stream",
     "text": [
      "Central-most node is 4 which has subgraph centrality 3.545488464905249 .\n",
      "The Estrada Index of A is 13.01184518629529\n"
     ]
    }
   ],
   "source": [
    "# find central-most node and Estrada index\n",
    "print('Central-most node is',np.argmax(np.diagonal(mtx_expA))+1,'which has subgraph centrality',np.max(np.diagonal(mtx_expA)),\n",
    "      '.\\nThe Estrada Index of A is',np.trace(mtx_expA))"
   ]
  },
  {
   "cell_type": "code",
   "execution_count": 10,
   "metadata": {},
   "outputs": [],
   "source": [
    "# Arnoldi algorithm\n",
    "\n",
    "# matrix A for which exp(A)b is of interest, n x n\n",
    "\n",
    "# b initial vector to be used, length n\n",
    "\n",
    "# m, the produced Krylov subspace will have dimension m\n",
    "\n",
    "\n",
    "def arnoldi_iteration(A, m: int, b = np.ones(A.shape[0])): # b default to be 1_n\n",
    "    \n",
    "    n = A.shape[0]\n",
    "    h = np.zeros((m + 1, m)) # to become the m x m upper Hessenberg matrix consisting of the coefficients h_ij\n",
    "    V = np.zeros((n, m + 1)) # to become the orthonormal basis V_m = [v_1, v_2, ..., v_m]\n",
    "    v = b / norm(b) # makes v a unit 2-norm vector    \n",
    "    V[:, 0] = v # use v as the first Krylov vector\n",
    "    \n",
    "    for j in range(m):\n",
    "        w = A @ v  # compute candidate vector\n",
    "        \n",
    "        for i in range(j + 1):\n",
    "            h[i, j] = V[:,i] @ w # h_ij-th element is product of v_i and w\n",
    "            w = w - h[i, j] * V[:, i] # modified Gram-Schmidt\n",
    "            \n",
    "        h[j + 1, j] = norm(w)\n",
    "        \n",
    "        zero = 1e-12 # small value used as h_ij = 0 threshold\n",
    "        if h[j + 1, j] > zero: # if nonzero add v to the basis\n",
    "            v = w / h[j + 1, j]\n",
    "            V[:, i + 1] = v\n",
    "        else: \n",
    "            return V, h \n",
    "        # print('step',j,'out of',m) # to check how far along algorithm is for larger m\n",
    "    return V, h\n",
    "            \n",
    "            "
   ]
  },
  {
   "cell_type": "code",
   "execution_count": 20,
   "metadata": {},
   "outputs": [
    {
     "name": "stdout",
     "output_type": "stream",
     "text": [
      "check Arnoldi relation   (2, 3)\t-2.220446049250313e-16\n",
      "  (3, 3)\t-1.1102230246251565e-16\n",
      "  (4, 3)\t-2.220446049250313e-16\n",
      "  (0, 3)\t-1.1102230246251565e-16\n",
      "  (1, 3)\t-2.220446049250313e-16\n",
      "check orthogonality [[1.00000000e+00 5.55111512e-17 1.38777878e-16 ... 0.00000000e+00\n",
      "  0.00000000e+00 0.00000000e+00]\n",
      " [5.55111512e-17 1.00000000e+00 0.00000000e+00 ... 0.00000000e+00\n",
      "  0.00000000e+00 0.00000000e+00]\n",
      " [1.38777878e-16 0.00000000e+00 1.00000000e+00 ... 0.00000000e+00\n",
      "  0.00000000e+00 0.00000000e+00]\n",
      " ...\n",
      " [0.00000000e+00 0.00000000e+00 0.00000000e+00 ... 0.00000000e+00\n",
      "  0.00000000e+00 0.00000000e+00]\n",
      " [0.00000000e+00 0.00000000e+00 0.00000000e+00 ... 0.00000000e+00\n",
      "  0.00000000e+00 0.00000000e+00]\n",
      " [0.00000000e+00 0.00000000e+00 0.00000000e+00 ... 0.00000000e+00\n",
      "  0.00000000e+00 0.00000000e+00]]\n"
     ]
    }
   ],
   "source": [
    "# Arnoldi approximation\n",
    "\n",
    "# exp(A)v ~ beta x V_m x exp(H_m) x e_1 (m-space 1st unit vector [1, 0, 0,..., 0])\n",
    "m = 100\n",
    "\n",
    "# get results \n",
    "\n",
    "Vm1, Hm1 = arnoldi_iteration(A, m)\n",
    "\n",
    "Vm, Hm = sparse.csc_matrix(Vm1[:,0:m]), sparse.csc_matrix(Hm1[0:m,0:m])\n",
    "\n",
    "# checks\n",
    "\n",
    "print(\"check Arnoldi relation\", A @ Vm - Vm @ Hm) # should be zero matrix (okay)\n",
    "\n",
    "orthog = Vm.transpose() @ Vm\n",
    "print(\"check orthogonality\", orthog.todense()) # should be identity (okay)\n",
    "\n",
    "\n",
    "# get beta = ||v||_2\n",
    "\n",
    "b = np.ones(A.shape[0])\n",
    "beta = norm(b)\n",
    "\n",
    "# get unit vector\n",
    "\n",
    "e1 = np.zeros((m,1))\n",
    "e1[0] = 1\n",
    "e1 = sparse.csc_matrix(e1)"
   ]
  },
  {
   "cell_type": "code",
   "execution_count": 21,
   "metadata": {
    "scrolled": true
   },
   "outputs": [
    {
     "data": {
      "text/plain": [
       "array([[ 0.447, -0.707, -0.365,  0.408,  0.   ,  0.   ,  0.   ,  0.   ,\n",
       "         0.   ,  0.   ,  0.   ,  0.   ,  0.   ,  0.   ,  0.   ,  0.   ,\n",
       "         0.   ,  0.   ,  0.   ,  0.   ,  0.   ,  0.   ,  0.   ,  0.   ,\n",
       "         0.   ,  0.   ,  0.   ,  0.   ,  0.   ,  0.   ,  0.   ,  0.   ,\n",
       "         0.   ,  0.   ,  0.   ,  0.   ,  0.   ,  0.   ,  0.   ,  0.   ,\n",
       "         0.   ,  0.   ,  0.   ,  0.   ,  0.   ,  0.   ,  0.   ,  0.   ,\n",
       "         0.   ,  0.   ,  0.   ,  0.   ,  0.   ,  0.   ,  0.   ,  0.   ,\n",
       "         0.   ,  0.   ,  0.   ,  0.   ,  0.   ,  0.   ,  0.   ,  0.   ,\n",
       "         0.   ,  0.   ,  0.   ,  0.   ,  0.   ,  0.   ,  0.   ,  0.   ,\n",
       "         0.   ,  0.   ,  0.   ,  0.   ,  0.   ,  0.   ,  0.   ,  0.   ,\n",
       "         0.   ,  0.   ,  0.   ,  0.   ,  0.   ,  0.   ,  0.   ,  0.   ,\n",
       "         0.   ,  0.   ,  0.   ,  0.   ,  0.   ,  0.   ,  0.   ,  0.   ,\n",
       "         0.   ,  0.   ,  0.   ,  0.   ],\n",
       "       [ 0.447,  0.   ,  0.548, -0.   ,  0.   ,  0.   ,  0.   ,  0.   ,\n",
       "         0.   ,  0.   ,  0.   ,  0.   ,  0.   ,  0.   ,  0.   ,  0.   ,\n",
       "         0.   ,  0.   ,  0.   ,  0.   ,  0.   ,  0.   ,  0.   ,  0.   ,\n",
       "         0.   ,  0.   ,  0.   ,  0.   ,  0.   ,  0.   ,  0.   ,  0.   ,\n",
       "         0.   ,  0.   ,  0.   ,  0.   ,  0.   ,  0.   ,  0.   ,  0.   ,\n",
       "         0.   ,  0.   ,  0.   ,  0.   ,  0.   ,  0.   ,  0.   ,  0.   ,\n",
       "         0.   ,  0.   ,  0.   ,  0.   ,  0.   ,  0.   ,  0.   ,  0.   ,\n",
       "         0.   ,  0.   ,  0.   ,  0.   ,  0.   ,  0.   ,  0.   ,  0.   ,\n",
       "         0.   ,  0.   ,  0.   ,  0.   ,  0.   ,  0.   ,  0.   ,  0.   ,\n",
       "         0.   ,  0.   ,  0.   ,  0.   ,  0.   ,  0.   ,  0.   ,  0.   ,\n",
       "         0.   ,  0.   ,  0.   ,  0.   ,  0.   ,  0.   ,  0.   ,  0.   ,\n",
       "         0.   ,  0.   ,  0.   ,  0.   ,  0.   ,  0.   ,  0.   ,  0.   ,\n",
       "         0.   ,  0.   ,  0.   ,  0.   ],\n",
       "       [ 0.447,  0.   , -0.365, -0.816,  0.   ,  0.   ,  0.   ,  0.   ,\n",
       "         0.   ,  0.   ,  0.   ,  0.   ,  0.   ,  0.   ,  0.   ,  0.   ,\n",
       "         0.   ,  0.   ,  0.   ,  0.   ,  0.   ,  0.   ,  0.   ,  0.   ,\n",
       "         0.   ,  0.   ,  0.   ,  0.   ,  0.   ,  0.   ,  0.   ,  0.   ,\n",
       "         0.   ,  0.   ,  0.   ,  0.   ,  0.   ,  0.   ,  0.   ,  0.   ,\n",
       "         0.   ,  0.   ,  0.   ,  0.   ,  0.   ,  0.   ,  0.   ,  0.   ,\n",
       "         0.   ,  0.   ,  0.   ,  0.   ,  0.   ,  0.   ,  0.   ,  0.   ,\n",
       "         0.   ,  0.   ,  0.   ,  0.   ,  0.   ,  0.   ,  0.   ,  0.   ,\n",
       "         0.   ,  0.   ,  0.   ,  0.   ,  0.   ,  0.   ,  0.   ,  0.   ,\n",
       "         0.   ,  0.   ,  0.   ,  0.   ,  0.   ,  0.   ,  0.   ,  0.   ,\n",
       "         0.   ,  0.   ,  0.   ,  0.   ,  0.   ,  0.   ,  0.   ,  0.   ,\n",
       "         0.   ,  0.   ,  0.   ,  0.   ,  0.   ,  0.   ,  0.   ,  0.   ,\n",
       "         0.   ,  0.   ,  0.   ,  0.   ],\n",
       "       [ 0.447,  0.707, -0.365,  0.408,  0.   ,  0.   ,  0.   ,  0.   ,\n",
       "         0.   ,  0.   ,  0.   ,  0.   ,  0.   ,  0.   ,  0.   ,  0.   ,\n",
       "         0.   ,  0.   ,  0.   ,  0.   ,  0.   ,  0.   ,  0.   ,  0.   ,\n",
       "         0.   ,  0.   ,  0.   ,  0.   ,  0.   ,  0.   ,  0.   ,  0.   ,\n",
       "         0.   ,  0.   ,  0.   ,  0.   ,  0.   ,  0.   ,  0.   ,  0.   ,\n",
       "         0.   ,  0.   ,  0.   ,  0.   ,  0.   ,  0.   ,  0.   ,  0.   ,\n",
       "         0.   ,  0.   ,  0.   ,  0.   ,  0.   ,  0.   ,  0.   ,  0.   ,\n",
       "         0.   ,  0.   ,  0.   ,  0.   ,  0.   ,  0.   ,  0.   ,  0.   ,\n",
       "         0.   ,  0.   ,  0.   ,  0.   ,  0.   ,  0.   ,  0.   ,  0.   ,\n",
       "         0.   ,  0.   ,  0.   ,  0.   ,  0.   ,  0.   ,  0.   ,  0.   ,\n",
       "         0.   ,  0.   ,  0.   ,  0.   ,  0.   ,  0.   ,  0.   ,  0.   ,\n",
       "         0.   ,  0.   ,  0.   ,  0.   ,  0.   ,  0.   ,  0.   ,  0.   ,\n",
       "         0.   ,  0.   ,  0.   ,  0.   ],\n",
       "       [ 0.447,  0.   ,  0.548, -0.   ,  0.   ,  0.   ,  0.   ,  0.   ,\n",
       "         0.   ,  0.   ,  0.   ,  0.   ,  0.   ,  0.   ,  0.   ,  0.   ,\n",
       "         0.   ,  0.   ,  0.   ,  0.   ,  0.   ,  0.   ,  0.   ,  0.   ,\n",
       "         0.   ,  0.   ,  0.   ,  0.   ,  0.   ,  0.   ,  0.   ,  0.   ,\n",
       "         0.   ,  0.   ,  0.   ,  0.   ,  0.   ,  0.   ,  0.   ,  0.   ,\n",
       "         0.   ,  0.   ,  0.   ,  0.   ,  0.   ,  0.   ,  0.   ,  0.   ,\n",
       "         0.   ,  0.   ,  0.   ,  0.   ,  0.   ,  0.   ,  0.   ,  0.   ,\n",
       "         0.   ,  0.   ,  0.   ,  0.   ,  0.   ,  0.   ,  0.   ,  0.   ,\n",
       "         0.   ,  0.   ,  0.   ,  0.   ,  0.   ,  0.   ,  0.   ,  0.   ,\n",
       "         0.   ,  0.   ,  0.   ,  0.   ,  0.   ,  0.   ,  0.   ,  0.   ,\n",
       "         0.   ,  0.   ,  0.   ,  0.   ,  0.   ,  0.   ,  0.   ,  0.   ,\n",
       "         0.   ,  0.   ,  0.   ,  0.   ,  0.   ,  0.   ,  0.   ,  0.   ,\n",
       "         0.   ,  0.   ,  0.   ,  0.   ]])"
      ]
     },
     "execution_count": 21,
     "metadata": {},
     "output_type": "execute_result"
    }
   ],
   "source": [
    "# check Vm\n",
    "np.around(sparse.csc_matrix.toarray(Vm), decimals = 3)"
   ]
  },
  {
   "cell_type": "code",
   "execution_count": 22,
   "metadata": {},
   "outputs": [
    {
     "data": {
      "text/plain": [
       "array([[ 2.   ,  0.632,  0.   , ...,  0.   ,  0.   ,  0.   ],\n",
       "       [ 0.632, -0.   ,  0.775, ...,  0.   ,  0.   ,  0.   ],\n",
       "       [ 0.   ,  0.775,  0.333, ...,  0.   ,  0.   ,  0.   ],\n",
       "       ...,\n",
       "       [ 0.   ,  0.   ,  0.   , ...,  0.   ,  0.   ,  0.   ],\n",
       "       [ 0.   ,  0.   ,  0.   , ...,  0.   ,  0.   ,  0.   ],\n",
       "       [ 0.   ,  0.   ,  0.   , ...,  0.   ,  0.   ,  0.   ]])"
      ]
     },
     "execution_count": 22,
     "metadata": {},
     "output_type": "execute_result"
    }
   ],
   "source": [
    "# check Hm\n",
    "np.around(sparse.csc_matrix.toarray(Hm), decimals = 3)"
   ]
  },
  {
   "cell_type": "code",
   "execution_count": 23,
   "metadata": {},
   "outputs": [
    {
     "data": {
      "text/plain": [
       "array([[1., 0., 0., ..., 0., 0., 0.],\n",
       "       [0., 1., 0., ..., 0., 0., 0.],\n",
       "       [0., 0., 1., ..., 0., 0., 0.],\n",
       "       ...,\n",
       "       [0., 0., 0., ..., 0., 0., 0.],\n",
       "       [0., 0., 0., ..., 0., 0., 0.],\n",
       "       [0., 0., 0., ..., 0., 0., 0.]])"
      ]
     },
     "execution_count": 23,
     "metadata": {},
     "output_type": "execute_result"
    }
   ],
   "source": [
    "np.around(sparse.csc_matrix.toarray(orthog), decimals = 3)"
   ]
  },
  {
   "cell_type": "code",
   "execution_count": 24,
   "metadata": {},
   "outputs": [
    {
     "name": "stdout",
     "output_type": "stream",
     "text": [
      "Arnoldi approximation\n",
      " [[ 4.22592057]\n",
      " [ 9.07757401]\n",
      " [ 7.56993527]\n",
      " [11.44518816]\n",
      " [ 9.07757401]]\n"
     ]
    }
   ],
   "source": [
    "# arnoldi approximation\n",
    "X = beta * Vm @ expm(Hm) @ e1\n",
    "print('Arnoldi approximation\\n',X.todense())"
   ]
  },
  {
   "cell_type": "code",
   "execution_count": 25,
   "metadata": {},
   "outputs": [
    {
     "name": "stdout",
     "output_type": "stream",
     "text": [
      "Exact [[ 4.22592057]\n",
      " [ 9.07757401]\n",
      " [ 7.56993527]\n",
      " [11.44518816]\n",
      " [ 9.07757401]]\n"
     ]
    }
   ],
   "source": [
    "# expAb calulated directly\n",
    "exact = expm(A) @ sparse.csc_matrix(b.reshape(5,1))\n",
    "print('Exact',exact.todense())"
   ]
  },
  {
   "cell_type": "code",
   "execution_count": 26,
   "metadata": {},
   "outputs": [
    {
     "name": "stdout",
     "output_type": "stream",
     "text": [
      "Arnoldi approximation\n",
      " [[ 4.226]\n",
      " [ 9.078]\n",
      " [ 7.57 ]\n",
      " [11.445]\n",
      " [ 9.078]]\n"
     ]
    }
   ],
   "source": [
    "print('Arnoldi approximation\\n',np.around(sparse.csc_matrix.toarray(X), 3))"
   ]
  },
  {
   "cell_type": "code",
   "execution_count": 27,
   "metadata": {},
   "outputs": [
    {
     "name": "stdout",
     "output_type": "stream",
     "text": [
      "Exact [[ 4.226]\n",
      " [ 9.078]\n",
      " [ 7.57 ]\n",
      " [11.445]\n",
      " [ 9.078]]\n"
     ]
    }
   ],
   "source": [
    "print('Exact',np.around(sparse.csc_matrix.toarray(exact), 3))"
   ]
  },
  {
   "cell_type": "code",
   "execution_count": 19,
   "metadata": {},
   "outputs": [],
   "source": [
    "# arnoldi_iteration(A, b, m)\n",
    "# Vm, Hm = arnoldi_iteration(A, b, m)\n",
    "# e_1 = np.zeros((m,1))\n",
    "# e_1[1] = 1\n",
    "# X = beta * Vm[:,0:m] @ expm(Hm[0:m,0:m]) @ e_1"
   ]
  }
 ],
 "metadata": {
  "kernelspec": {
   "display_name": "Python 3",
   "language": "python",
   "name": "python3"
  },
  "language_info": {
   "codemirror_mode": {
    "name": "ipython",
    "version": 3
   },
   "file_extension": ".py",
   "mimetype": "text/x-python",
   "name": "python",
   "nbconvert_exporter": "python",
   "pygments_lexer": "ipython3",
   "version": "3.7.1"
  }
 },
 "nbformat": 4,
 "nbformat_minor": 4
}
