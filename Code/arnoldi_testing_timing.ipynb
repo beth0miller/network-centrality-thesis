{
 "cells": [
  {
   "cell_type": "code",
   "execution_count": 1,
   "metadata": {},
   "outputs": [],
   "source": [
    "import numpy as np\n",
    "import scipy.sparse as sparse\n",
    "from scipy.io import mmread\n",
    "from scipy.linalg import expm, norm\n",
    "from timeit import default_timer as timer"
   ]
  },
  {
   "cell_type": "code",
   "execution_count": 2,
   "metadata": {},
   "outputs": [],
   "source": [
    "# download datasets\n",
    "dol = mmread('dolphins.mtx').tocsr()\n",
    "fb = mmread('facebook.mtx').tocsr()\n",
    "pa = mmread('PA.mtx').tocsr()"
   ]
  },
  {
   "cell_type": "code",
   "execution_count": 3,
   "metadata": {},
   "outputs": [],
   "source": [
    "# Arnoldi algorithm\n",
    "\n",
    "# matrix A for which exp(A)b is of interest, n x n\n",
    "# b initial vector to be used, length n\n",
    "# m, the produced Krylov subspace will have dimension m\n",
    "\n",
    "def arnoldi_iteration(A, m: int): \n",
    "    b  = np.ones(A.shape[0])  # b default to be 1_n\n",
    "    \n",
    "    n = A.shape[0]\n",
    "    h = np.zeros((m + 1, m)) # to become the m x m upper Hessenberg matrix consisting of the coefficients h_ij\n",
    "    V = np.zeros((n, m + 1)) # to become the orthonormal basis V_m = [v_1, v_2, ..., v_m]\n",
    "    v = b / norm(b) # makes v a unit 2-norm vector    \n",
    "    V[:, 0] = v # use v as the first Krylov vector\n",
    "    \n",
    "    for j in range(m):\n",
    "        w = A @ v  # compute candidate vector\n",
    "        \n",
    "        for i in range(j + 1):\n",
    "            h[i, j] = V[:,i] @ w # h_ij-th element is product of v_i and w\n",
    "            w = w - h[i, j] * V[:, i] # modified Gram-Schmidt\n",
    "            \n",
    "        h[j + 1, j] = norm(w)\n",
    "        \n",
    "        zero = 1e-12 # small value used as h_ij = 0 threshold\n",
    "        if h[j + 1, j] > zero: # if nonzero add v to the basis\n",
    "            v = w / h[j + 1, j]\n",
    "            V[:, i + 1] = v\n",
    "        else: \n",
    "            return V, h \n",
    "        # print('step',j,'out of',m) # to check how far along algorithm is for larger m\n",
    "    return V, h"
   ]
  },
  {
   "cell_type": "code",
   "execution_count": 4,
   "metadata": {},
   "outputs": [],
   "source": [
    "# get Vm and Hm from output\n",
    "def get_m(Vm1,Hm1,m):\n",
    "    Vm, Hm = sparse.csc_matrix(Vm1[:,0:m]), sparse.csc_matrix(Hm1[0:m,0:m])\n",
    "    return Vm, Hm"
   ]
  },
  {
   "cell_type": "code",
   "execution_count": 5,
   "metadata": {},
   "outputs": [],
   "source": [
    "# get approximation from arnoldi result\n",
    "def a_approximation(A, Vm, Hm, m):\n",
    "    # get beta = ||v||_2\n",
    "    b = np.ones(A.shape[0])\n",
    "    beta = norm(b)\n",
    "\n",
    "    # get unit vector\n",
    "    e1 = np.zeros((m,1))\n",
    "    e1[0] = 1\n",
    "    e1 = sparse.csc_matrix(e1)\n",
    "    \n",
    "    X = beta * Vm @ expm(Hm) @ e1\n",
    "    return X"
   ]
  },
  {
   "cell_type": "code",
   "execution_count": 6,
   "metadata": {},
   "outputs": [],
   "source": [
    "########## TIMINGS"
   ]
  },
  {
   "cell_type": "code",
   "execution_count": 33,
   "metadata": {},
   "outputs": [
    {
     "name": "stdout",
     "output_type": "stream",
     "text": [
      "this took 0.016965699999997242 seconds per run 5 runs\n"
     ]
    }
   ],
   "source": [
    "# dolphins\n",
    "\n",
    "m = 100\n",
    "\n",
    "start = timer()\n",
    "for i in range(5):   # we run this 5 times to get more reliable timings\n",
    "    dolV, dolH = arnoldi_iteration(dol, m)\n",
    "end = timer()\n",
    "\n",
    "dolTiming = (end - start)/(i+1)\n",
    "\n",
    "print('this took', dolTiming, 'seconds', 'per run', i+ 1, 'runs') # Time in seconds"
   ]
  },
  {
   "cell_type": "code",
   "execution_count": 34,
   "metadata": {},
   "outputs": [
    {
     "name": "stdout",
     "output_type": "stream",
     "text": [
      "this took 0.2639195599999994 seconds per run 5 runs\n"
     ]
    }
   ],
   "source": [
    "# facebook\n",
    "\n",
    "m = 100\n",
    "\n",
    "start = timer()\n",
    "for i in range(5):   # we run this 5 times to get more reliable timings\n",
    "    fbV, fbH = arnoldi_iteration(fb, m)\n",
    "end = timer()\n",
    "\n",
    "fbTiming = (end - start)/(i+1)\n",
    "\n",
    "print('this took', fbTiming, 'seconds', 'per run', i+ 1, 'runs') # Time in seconds"
   ]
  },
  {
   "cell_type": "code",
   "execution_count": 35,
   "metadata": {},
   "outputs": [
    {
     "name": "stdout",
     "output_type": "stream",
     "text": [
      "this took 238.94743278000004 seconds per run 5 runs\n"
     ]
    }
   ],
   "source": [
    "# pennsylvania\n",
    "\n",
    "m = 100\n",
    "\n",
    "start = timer()\n",
    "for i in range(5):   # we run this 5 times to get more reliable timings\n",
    "    paV, paH = arnoldi_iteration(pa, m)\n",
    "end = timer()\n",
    "\n",
    "paTiming = (end - start)/(i+1)\n",
    "\n",
    "print('this took', paTiming, 'seconds', 'per run', i+ 1, 'runs') # Time in seconds"
   ]
  },
  {
   "cell_type": "code",
   "execution_count": 37,
   "metadata": {},
   "outputs": [
    {
     "name": "stdout",
     "output_type": "stream",
     "text": [
      "62.927283299999544\n"
     ]
    }
   ],
   "source": [
    "start = timer()\n",
    "V, H = get_m(paV,paH,m)\n",
    "a_approximation(pa, V, H,m)\n",
    "end = timer()\n",
    "print(end-start)"
   ]
  },
  {
   "cell_type": "code",
   "execution_count": null,
   "metadata": {},
   "outputs": [],
   "source": [
    "########## DOLPHIN ERROR PLOT"
   ]
  },
  {
   "cell_type": "code",
   "execution_count": null,
   "metadata": {},
   "outputs": [],
   "source": [
    "########## FACEBOOK ERROR PLOT"
   ]
  },
  {
   "cell_type": "code",
   "execution_count": null,
   "metadata": {},
   "outputs": [],
   "source": [
    "########## PA TIMINGS BAR CHART "
   ]
  }
 ],
 "metadata": {
  "kernelspec": {
   "display_name": "Python 3",
   "language": "python",
   "name": "python3"
  },
  "language_info": {
   "codemirror_mode": {
    "name": "ipython",
    "version": 3
   },
   "file_extension": ".py",
   "mimetype": "text/x-python",
   "name": "python",
   "nbconvert_exporter": "python",
   "pygments_lexer": "ipython3",
   "version": "3.7.1"
  }
 },
 "nbformat": 4,
 "nbformat_minor": 4
}
