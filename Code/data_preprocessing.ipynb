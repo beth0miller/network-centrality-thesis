{
 "cells": [
  {
   "cell_type": "code",
   "execution_count": null,
   "metadata": {},
   "outputs": [],
   "source": [
    "import numpy as np\n",
    "from  scipy import sparse\n",
    "from scipy.linalg import expm, norm\n",
    "from scipy import io"
   ]
  },
  {
   "cell_type": "code",
   "execution_count": null,
   "metadata": {},
   "outputs": [],
   "source": [
    "# FACEBOOK"
   ]
  },
  {
   "cell_type": "code",
   "execution_count": null,
   "metadata": {},
   "outputs": [],
   "source": [
    "# from http://blog.samuelmh.com/2015/02/pagerank-sparse-matrices-python-ipython.html\n",
    "DATASET_ORIGINAL  = 'facebook_combined.txt'\n",
    "NODES = 4039\n",
    "EDGES = 88234 *2"
   ]
  },
  {
   "cell_type": "code",
   "execution_count": null,
   "metadata": {},
   "outputs": [],
   "source": [
    "def datasetCHECK(data):\n",
    "    row = []\n",
    "    col = []    \n",
    "    f = open(data, 'r')\n",
    "    for x in f:\n",
    "        row_val = int(x.split()[1])\n",
    "        col_val = int(x.split()[0])\n",
    "        row.append(row_val)\n",
    "        col.append(col_val)\n",
    "    return(row, col)#sparse.csr_matrix(([1]*EDGES,(row,col)),shape=(NODES,NODES)))"
   ]
  },
  {
   "cell_type": "code",
   "execution_count": null,
   "metadata": {},
   "outputs": [],
   "source": [
    "row, col = datasetCHECK(DATASET_ORIGINAL)"
   ]
  },
  {
   "cell_type": "code",
   "execution_count": null,
   "metadata": {},
   "outputs": [],
   "source": [
    "# checking number of nodes\n",
    "max(row)"
   ]
  },
  {
   "cell_type": "code",
   "execution_count": null,
   "metadata": {},
   "outputs": [],
   "source": [
    "max(row)"
   ]
  },
  {
   "cell_type": "code",
   "execution_count": null,
   "metadata": {},
   "outputs": [],
   "source": [
    "len(row) == len(col)"
   ]
  },
  {
   "cell_type": "code",
   "execution_count": null,
   "metadata": {},
   "outputs": [],
   "source": [
    "len(row + col) == EDGES"
   ]
  },
  {
   "cell_type": "code",
   "execution_count": null,
   "metadata": {},
   "outputs": [],
   "source": [
    "len(row) * 2"
   ]
  },
  {
   "cell_type": "code",
   "execution_count": null,
   "metadata": {},
   "outputs": [],
   "source": [
    "def dataset2csr(data):\n",
    "    row = []\n",
    "    col = []    \n",
    "    f = open(data, 'r')\n",
    "    for x in f:\n",
    "        row_val = int(x.split()[1])\n",
    "        col_val = int(x.split()[0])\n",
    "        row.append(row_val)\n",
    "        col.append(col_val)\n",
    "    ROW = row + col\n",
    "    COL = col + row\n",
    "    return(sparse.csr_matrix(([1]*EDGES,(ROW,COL)),shape=(NODES,NODES)))\n",
    "\n",
    "%time  dataset2csr(DATASET_ORIGINAL)\n"
   ]
  },
  {
   "cell_type": "code",
   "execution_count": null,
   "metadata": {},
   "outputs": [],
   "source": [
    "fb = dataset2csr(DATASET_ORIGINAL)"
   ]
  },
  {
   "cell_type": "code",
   "execution_count": null,
   "metadata": {},
   "outputs": [],
   "source": [
    "# check symmetric\n",
    "\n",
    "fb_array = sparse.csc_matrix.toarray(fb)\n",
    "print(fb_array.transpose().all() == fb_array.all())"
   ]
  },
  {
   "cell_type": "code",
   "execution_count": null,
   "metadata": {},
   "outputs": [],
   "source": [
    "# nonzeros\n",
    "fb.count_nonzero()"
   ]
  },
  {
   "cell_type": "code",
   "execution_count": null,
   "metadata": {
    "scrolled": true
   },
   "outputs": [],
   "source": [
    "import sys\n",
    "\n",
    "print(\"The size in memory of the adjacency matrix is {0} MB\".format(\n",
    "    (sys.getsizeof(fb.shape)+\n",
    "    fb.data.nbytes+\n",
    "    fb.indices.nbytes+\n",
    "    fb.indptr.nbytes)/(1024.0**2)\n",
    "))"
   ]
  },
  {
   "cell_type": "code",
   "execution_count": null,
   "metadata": {},
   "outputs": [],
   "source": [
    "io.mmwrite('facebook.mtx',fb)"
   ]
  },
  {
   "cell_type": "code",
   "execution_count": null,
   "metadata": {},
   "outputs": [],
   "source": [
    "# PENNSYLVANIA"
   ]
  },
  {
   "cell_type": "code",
   "execution_count": null,
   "metadata": {},
   "outputs": [],
   "source": [
    "DATASET_ORIGINAL  = 'roadNet-PA.txt'"
   ]
  },
  {
   "cell_type": "code",
   "execution_count": null,
   "metadata": {},
   "outputs": [],
   "source": [
    "row, col = datasetCHECK(DATASET_ORIGINAL)"
   ]
  },
  {
   "cell_type": "code",
   "execution_count": null,
   "metadata": {},
   "outputs": [],
   "source": [
    "# checking number of nodes (doesnt match given)\n",
    "max(row)"
   ]
  },
  {
   "cell_type": "code",
   "execution_count": null,
   "metadata": {},
   "outputs": [],
   "source": [
    "len(col)"
   ]
  },
  {
   "cell_type": "code",
   "execution_count": null,
   "metadata": {},
   "outputs": [],
   "source": [
    "# edges match\n",
    "len(col) / 2"
   ]
  },
  {
   "cell_type": "code",
   "execution_count": null,
   "metadata": {},
   "outputs": [],
   "source": [
    "EDGES = 1541898 * 2\n",
    "NODES = 1090920"
   ]
  },
  {
   "cell_type": "code",
   "execution_count": null,
   "metadata": {},
   "outputs": [],
   "source": [
    "# create graph\n",
    "def dataset2csr(data):\n",
    "    row = []\n",
    "    col = []    \n",
    "    f = open(data, 'r')\n",
    "    for x in f:\n",
    "        row_val = int(x.split()[1])\n",
    "        col_val = int(x.split()[0])\n",
    "        row.append(row_val)\n",
    "        col.append(col_val)\n",
    "    return(sparse.csr_matrix(([1]*EDGES,(row,col)),shape=(NODES,NODES)))"
   ]
  },
  {
   "cell_type": "code",
   "execution_count": null,
   "metadata": {},
   "outputs": [],
   "source": [
    "pa = dataset2csr(DATASET_ORIGINAL)"
   ]
  },
  {
   "cell_type": "code",
   "execution_count": null,
   "metadata": {},
   "outputs": [],
   "source": [
    "# nonzero\n",
    "pa.count_nonzero()"
   ]
  },
  {
   "cell_type": "code",
   "execution_count": null,
   "metadata": {},
   "outputs": [],
   "source": [
    "import sys\n",
    "\n",
    "print(\"The size in memory of the adjacency matrix is {0} MB\".format(\n",
    "    (sys.getsizeof(pa.shape)+\n",
    "    pa.data.nbytes+\n",
    "    pa.indices.nbytes+\n",
    "    pa.indptr.nbytes)/(1024.0**2)\n",
    "))"
   ]
  },
  {
   "cell_type": "code",
   "execution_count": null,
   "metadata": {},
   "outputs": [],
   "source": [
    "io.mmwrite('PA.mtx',pa)"
   ]
  }
 ],
 "metadata": {
  "kernelspec": {
   "display_name": "Python 3",
   "language": "python",
   "name": "python3"
  },
  "language_info": {
   "codemirror_mode": {
    "name": "ipython",
    "version": 3
   },
   "file_extension": ".py",
   "mimetype": "text/x-python",
   "name": "python",
   "nbconvert_exporter": "python",
   "pygments_lexer": "ipython3",
   "version": "3.7.1"
  }
 },
 "nbformat": 4,
 "nbformat_minor": 4
}
