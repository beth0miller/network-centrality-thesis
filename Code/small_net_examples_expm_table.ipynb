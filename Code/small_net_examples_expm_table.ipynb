{
 "cells": [
  {
   "cell_type": "code",
   "execution_count": null,
   "metadata": {},
   "outputs": [],
   "source": [
    "import numpy as np\n",
    "import matplotlib.pyplot as plt\n",
    "import scipy.sparse as sparse\n",
    "from scipy.linalg import expm, sinm, cosm\n",
    "import networkx as nx\n",
    "from scipy.io import mmread\n",
    "from timeit import default_timer as timer\n",
    "import itertools"
   ]
  },
  {
   "cell_type": "code",
   "execution_count": null,
   "metadata": {},
   "outputs": [],
   "source": [
    "# n=5 example\n",
    "# create adjacency matrix as array\n",
    "\n",
    "A_array = np.array([[0, 0, 1, 0, 0], [0, 0, 0, 1, 1], [1, 0, 0, 1, 0], [0, 1, 1, 0, 1], [0, 1, 0, 1, 0]])\n",
    "A_array"
   ]
  },
  {
   "cell_type": "code",
   "execution_count": null,
   "metadata": {},
   "outputs": [],
   "source": [
    "# create as sparse matrix\n",
    "\n",
    "A = sparse.csc_matrix(A_array)\n",
    "print(A)"
   ]
  },
  {
   "cell_type": "code",
   "execution_count": null,
   "metadata": {},
   "outputs": [],
   "source": [
    "# calculate exponential using A_csc\n",
    "\n",
    "expA = expm(A)\n",
    "\n",
    "print(expA)"
   ]
  },
  {
   "cell_type": "code",
   "execution_count": null,
   "metadata": {},
   "outputs": [],
   "source": [
    "# put back into dense matrix\n",
    "mtx_expA = expA.todense()\n",
    "mtx_expA"
   ]
  },
  {
   "cell_type": "code",
   "execution_count": null,
   "metadata": {
    "scrolled": true
   },
   "outputs": [],
   "source": [
    "# expA rounded to 3dp\n",
    "np.around(sparse.csc_matrix.toarray(expA), decimals = 3)"
   ]
  },
  {
   "cell_type": "code",
   "execution_count": null,
   "metadata": {},
   "outputs": [],
   "source": [
    "# read off diagonal values\n",
    "np.diagonal(mtx_expA)"
   ]
  },
  {
   "cell_type": "code",
   "execution_count": null,
   "metadata": {},
   "outputs": [],
   "source": [
    "# diagonal rounded\n",
    "np.around(np.diagonal(mtx_expA), decimals = 3)"
   ]
  },
  {
   "cell_type": "code",
   "execution_count": null,
   "metadata": {},
   "outputs": [],
   "source": [
    "print(np.trace(mtx_expA))"
   ]
  },
  {
   "cell_type": "code",
   "execution_count": null,
   "metadata": {},
   "outputs": [],
   "source": [
    "# find central-most node and Estrada index\n",
    "print('Central-most node is',np.argmax(np.diagonal(mtx_expA))+1,'which has subgraph centrality',np.max(np.diagonal(mtx_expA)),\n",
    "      '.\\nThe Estrada Index of A is',np.trace(mtx_expA))"
   ]
  },
  {
   "cell_type": "code",
   "execution_count": null,
   "metadata": {},
   "outputs": [],
   "source": [
    "# create and draw graph"
   ]
  },
  {
   "cell_type": "code",
   "execution_count": null,
   "metadata": {},
   "outputs": [],
   "source": [
    "G = nx.Graph()"
   ]
  },
  {
   "cell_type": "code",
   "execution_count": null,
   "metadata": {},
   "outputs": [],
   "source": [
    "G.add_nodes_from([1, 2, 3, 4, 5])"
   ]
  },
  {
   "cell_type": "code",
   "execution_count": null,
   "metadata": {},
   "outputs": [],
   "source": [
    "G.add_edges_from([(1,3),(3,4),(4,2),(4,5),(5,2)])"
   ]
  },
  {
   "cell_type": "code",
   "execution_count": null,
   "metadata": {},
   "outputs": [],
   "source": [
    "nx.draw_circular(G, with_labels=True, font_weight='bold', width = 1.5, node_color = 'skyblue')\n",
    "#plt.savefig('./images/n5_circular.pdf')"
   ]
  },
  {
   "cell_type": "code",
   "execution_count": null,
   "metadata": {},
   "outputs": [],
   "source": [
    "# graph showing 4 as central-most node\n",
    "nx.draw(G, with_labels=True, font_weight='bold', width = 1.5, node_color = 'skyblue')\n",
    "#plt.savefig('./images/n5.pdf')"
   ]
  },
  {
   "cell_type": "code",
   "execution_count": null,
   "metadata": {},
   "outputs": [],
   "source": [
    "# loaded from https://sparse.tamu.edu/Rajat/rajat02\n",
    "A_2 = mmread('n1960.mtx').tocsc()\n",
    "print('size of the ~2000 matrix is', A_2.shape)"
   ]
  },
  {
   "cell_type": "code",
   "execution_count": null,
   "metadata": {},
   "outputs": [],
   "source": [
    "# loaded from https://sparse.tamu.edu/DIMACS10/delaunay_n12\n",
    "A_4 = mmread('n4096.mtx').tocsc()\n",
    "print('size of the ~4000 matrix is', A_4.shape)"
   ]
  },
  {
   "cell_type": "code",
   "execution_count": null,
   "metadata": {},
   "outputs": [],
   "source": [
    "# loaded from https://sparse.tamu.edu/Pothen/barth4\n",
    "A_6 = mmread('n6019.mtx').tocsc()\n",
    "print('size of the ~6000 matrix is', A_6.shape)"
   ]
  },
  {
   "cell_type": "code",
   "execution_count": null,
   "metadata": {},
   "outputs": [],
   "source": [
    "# loaded from https://sparse.tamu.edu/Pothen/commanche_dual\n",
    "A_8 = mmread('n7920.mtx').tocsc()\n",
    "print('size of the ~8000 matrix is', A_8.shape)"
   ]
  },
  {
   "cell_type": "code",
   "execution_count": null,
   "metadata": {},
   "outputs": [],
   "source": [
    "# number of nodes\n",
    "A_2_nodes = A_2.shape[0]\n",
    "A_4_nodes = A_4.shape[0]\n",
    "A_6_nodes = A_6.shape[0]\n",
    "A_8_nodes = A_8.shape[0]\n",
    "print(A_2_nodes,\n",
    "A_4_nodes,\n",
    "A_6_nodes,\n",
    "A_8_nodes)"
   ]
  },
  {
   "cell_type": "code",
   "execution_count": null,
   "metadata": {},
   "outputs": [],
   "source": [
    "A_2_nonzeros = A_2.count_nonzero()\n",
    "A_4_nonzeros = A_4.count_nonzero()\n",
    "A_6_nonzeros = A_6.count_nonzero()\n",
    "A_8_nonzeros = A_8.count_nonzero()\n",
    "print(A_2_nonzeros,\n",
    "A_4_nonzeros,\n",
    "A_6_nonzeros,\n",
    "A_8_nonzeros)"
   ]
  },
  {
   "cell_type": "code",
   "execution_count": null,
   "metadata": {},
   "outputs": [],
   "source": [
    "# example matrix for introduction to graph theory\n",
    "# random undirected graph example loaded from https://sparse.tamu.edu/Mycielski/mycielskian4\n",
    "mtx = mmread('n11.mtx').tocsc()\n",
    "print('size of power network matrix is', mtx.shape,'\\nnumber of non-zeroes is',mtx.count_nonzero())"
   ]
  },
  {
   "cell_type": "code",
   "execution_count": null,
   "metadata": {},
   "outputs": [],
   "source": [
    "# draw network\n",
    "X = nx.from_scipy_sparse_matrix(mtx)"
   ]
  },
  {
   "cell_type": "code",
   "execution_count": null,
   "metadata": {},
   "outputs": [],
   "source": [
    "# degree of nodes\n",
    "a_2  = nx.adjacency_matrix(X) @ nx.adjacency_matrix(X)\n",
    "a_2.diagonal()"
   ]
  },
  {
   "cell_type": "code",
   "execution_count": null,
   "metadata": {},
   "outputs": [],
   "source": [
    "print('X has',len(X.nodes()),'nodes, and',len(X.edges()),'edges')"
   ]
  },
  {
   "cell_type": "code",
   "execution_count": null,
   "metadata": {},
   "outputs": [],
   "source": [
    "# adjacency matrix\n",
    "print(nx.adjacency_matrix(X).todense())"
   ]
  },
  {
   "cell_type": "code",
   "execution_count": null,
   "metadata": {},
   "outputs": [],
   "source": [
    "keys = list(range(11))\n",
    "vals = list(range(1,12))\n",
    "no_labels = dict(zip(keys, vals))\n",
    "no_labels"
   ]
  },
  {
   "cell_type": "code",
   "execution_count": null,
   "metadata": {},
   "outputs": [],
   "source": [
    "# plain graph\n",
    "\n",
    "nx.draw_circular(X, font_weight='bold', with_labels=True, width = 1.5, node_color = 'skyblue', labels = no_labels)\n",
    "plt.savefig('./images/n11_plain.pdf')"
   ]
  },
  {
   "cell_type": "code",
   "execution_count": null,
   "metadata": {},
   "outputs": [],
   "source": [
    "# graph with names\n",
    "\n",
    "\n",
    "nx.draw(X, font_weight = 'bold', with_labels=True, width = 1.5, node_size = 1500,\n",
    "        node_color = 'skyblue', node_shape = 'o',\n",
    "        labels = {0: 'Sally', 1: 'Priya', 2: 'Terry', 3: 'Rajeev', 4: 'John', 5: 'Isabel', 6: 'Ridhi', \n",
    "                  7: 'Marc', 8: 'Alain', 9: 'Yifan', 10: 'Ray'}, font_size = 10.5)\n",
    "# plt.savefig('./images/n11_researchers.pdf')\n"
   ]
  },
  {
   "cell_type": "code",
   "execution_count": null,
   "metadata": {},
   "outputs": [],
   "source": [
    "np.zeros(mtx.shape[0])"
   ]
  },
  {
   "cell_type": "code",
   "execution_count": null,
   "metadata": {},
   "outputs": [],
   "source": [
    "expm(mtx)@ np.ones(11)\n",
    "# 10 highest\n",
    "# 4, 5, 6, 7, 8 lowest"
   ]
  },
  {
   "cell_type": "code",
   "execution_count": null,
   "metadata": {},
   "outputs": [],
   "source": [
    "# look at https://networkx.github.io/documentation/stable/reference/generated/networkx.drawing.nx_pylab.draw_networkx.html#networkx.drawing.nx_pylab.draw_networkx\n",
    "\n",
    "# edges list\n",
    "X.edges()"
   ]
  },
  {
   "cell_type": "code",
   "execution_count": null,
   "metadata": {},
   "outputs": [],
   "source": [
    "edges = list([(0, 1), (0, 3), (0, 6), (0, 8), (1, 2), (1, 5), (1, 7), (2, 4), (2, 6), (2, 9), (3, 4), (3, 5), (3, 9), (4, 7), (4, 8), (5, 10), (6, 10), (7, 10), (8, 10), (9, 10)])"
   ]
  },
  {
   "cell_type": "code",
   "execution_count": null,
   "metadata": {},
   "outputs": [],
   "source": [
    "# path of length n between two distinct nodes i and j"
   ]
  },
  {
   "cell_type": "code",
   "execution_count": null,
   "metadata": {},
   "outputs": [],
   "source": [
    "path_1 = [(0, 1), (1, 5), (5, 10)]"
   ]
  },
  {
   "cell_type": "code",
   "execution_count": null,
   "metadata": {},
   "outputs": [],
   "source": [
    "def edge_highlight(path_1):\n",
    "    path = path_1.copy()\n",
    "    for x in edges:\n",
    "        if x not in path:\n",
    "            path.append(x)\n",
    "        else:\n",
    "            continue\n",
    "            \n",
    "    highlight = list(itertools.repeat('b',len(path_1)))\n",
    "    normal = list(itertools.repeat('k',len(edges)- len(path_1)))\n",
    "    e_colours = highlight + normal\n",
    "    \n",
    "    return path, e_colours"
   ]
  },
  {
   "cell_type": "code",
   "execution_count": null,
   "metadata": {},
   "outputs": [],
   "source": [
    "path_edges, path_colours = edge_highlight(path_1)"
   ]
  },
  {
   "cell_type": "code",
   "execution_count": null,
   "metadata": {
    "scrolled": true
   },
   "outputs": [],
   "source": [
    "# path\n",
    "nx.draw_circular(X, with_labels=True, font_weight='bold', edgelist = path_edges, width = 1.5, edge_color = path_colours, node_color = 'w', labels = no_labels)\n",
    "plt.savefig('./images/n11_path.pdf')"
   ]
  },
  {
   "cell_type": "code",
   "execution_count": null,
   "metadata": {},
   "outputs": [],
   "source": [
    "# walk\n",
    "edges"
   ]
  },
  {
   "cell_type": "code",
   "execution_count": null,
   "metadata": {},
   "outputs": [],
   "source": [
    "# if path 0,1,5,10 continued to 8,0 it would be a walk as it starts and finishes on node 0"
   ]
  },
  {
   "cell_type": "code",
   "execution_count": null,
   "metadata": {},
   "outputs": [],
   "source": [
    "walk1 = [(0,1), (1, 5), (5, 10), (8, 10), (0, 8)]"
   ]
  },
  {
   "cell_type": "code",
   "execution_count": null,
   "metadata": {},
   "outputs": [],
   "source": [
    "def edge_highlight(path_1):\n",
    "    path = path_1.copy()\n",
    "    for x in edges:\n",
    "        if x not in path:\n",
    "            path.append(x)\n",
    "        else:\n",
    "            continue\n",
    "            \n",
    "    highlight = list(itertools.repeat('b',len(path_1)))\n",
    "    normal = list(itertools.repeat('k',len(edges)- len(path_1)))\n",
    "    e_colours = highlight + normal\n",
    "    \n",
    "    return path, e_colours"
   ]
  },
  {
   "cell_type": "code",
   "execution_count": null,
   "metadata": {},
   "outputs": [],
   "source": [
    "walk1_edges, walk1_colours = edge_highlight(walk1)"
   ]
  },
  {
   "cell_type": "code",
   "execution_count": null,
   "metadata": {
    "scrolled": true
   },
   "outputs": [],
   "source": [
    "# walk with same start and end\n",
    "nx.draw_circular(X, with_labels=True, font_weight='bold', edgelist = walk1_edges, width = 1.5, edge_color = walk1_colours, node_color = 'w', labels = no_labels)\n",
    "plt.savefig('./images/n11_walk1.pdf')"
   ]
  },
  {
   "cell_type": "code",
   "execution_count": null,
   "metadata": {},
   "outputs": [],
   "source": [
    "# if path 0,1,5,10 continued to 7,1,2 it would be walk as it revisits node 1 "
   ]
  },
  {
   "cell_type": "code",
   "execution_count": null,
   "metadata": {},
   "outputs": [],
   "source": [
    "walk2 = [(0,1), (1, 5), (5, 10), (7,10), (1, 7), (1, 2)]"
   ]
  },
  {
   "cell_type": "code",
   "execution_count": null,
   "metadata": {},
   "outputs": [],
   "source": [
    "walk2_edges, walk2_colours = edge_highlight(walk2)"
   ]
  },
  {
   "cell_type": "code",
   "execution_count": null,
   "metadata": {
    "scrolled": true
   },
   "outputs": [],
   "source": [
    "# walk revisiting a node\n",
    "nx.draw_circular(X, with_labels=True, font_weight='bold', \n",
    "                 edgelist = walk2_edges, width = 1.5, \n",
    "                 edge_color = walk2_colours, node_color = 'w', labels = no_labels)\n",
    "plt.savefig('./images/n11_walk2.pdf')"
   ]
  },
  {
   "cell_type": "code",
   "execution_count": null,
   "metadata": {},
   "outputs": [],
   "source": [
    "# 4 and 6 : 4 is not as closely connected to 6 as 10 is\n",
    "# shortest path between 4 and 6 is length 2 going through node 2\n",
    "# can consider after that that if this path connot be traversed for some reaosn, then the shortes pathlength is 3"
   ]
  },
  {
   "cell_type": "code",
   "execution_count": null,
   "metadata": {},
   "outputs": [],
   "source": [
    "conn1 = [(2, 4), (2, 6)]"
   ]
  },
  {
   "cell_type": "code",
   "execution_count": null,
   "metadata": {},
   "outputs": [],
   "source": [
    "conn1_e, conn1_c = edge_highlight(conn1)"
   ]
  },
  {
   "cell_type": "code",
   "execution_count": null,
   "metadata": {
    "scrolled": true
   },
   "outputs": [],
   "source": [
    "nx.draw_circular(X, with_labels=True, font_weight='bold', \n",
    "                 edgelist = conn1_e, width = 1.5, \n",
    "                 edge_color = conn1_c, node_color = 'w', labels = no_labels)\n",
    "plt.savefig('./images/n11_nodedist1.pdf')"
   ]
  },
  {
   "cell_type": "code",
   "execution_count": null,
   "metadata": {},
   "outputs": [],
   "source": [
    "# 4 and 6 : 4 is not as closely connected to 6 as 10 is\n",
    "# the distance between nodes 6 and 10 is only 1, along the edge that joins them (they are neighbors)"
   ]
  },
  {
   "cell_type": "code",
   "execution_count": null,
   "metadata": {},
   "outputs": [],
   "source": [
    "conn2 = [(6, 10)]"
   ]
  },
  {
   "cell_type": "code",
   "execution_count": null,
   "metadata": {},
   "outputs": [],
   "source": [
    "conn2_e, conn2_c = edge_highlight(conn2)"
   ]
  },
  {
   "cell_type": "code",
   "execution_count": null,
   "metadata": {
    "scrolled": true
   },
   "outputs": [],
   "source": [
    "nx.draw_circular(X, with_labels=True, font_weight='bold', \n",
    "                 edgelist = conn2_e, width = 1.5, \n",
    "                 edge_color = conn2_c, node_color = 'w', labels = no_labels)\n",
    "plt.savefig('./images/n11_nodedist2.pdf')"
   ]
  },
  {
   "cell_type": "code",
   "execution_count": null,
   "metadata": {},
   "outputs": [],
   "source": []
  }
 ],
 "metadata": {
  "kernelspec": {
   "display_name": "Python 3",
   "language": "python",
   "name": "python3"
  },
  "language_info": {
   "codemirror_mode": {
    "name": "ipython",
    "version": 3
   },
   "file_extension": ".py",
   "mimetype": "text/x-python",
   "name": "python",
   "nbconvert_exporter": "python",
   "pygments_lexer": "ipython3",
   "version": "3.7.1"
  }
 },
 "nbformat": 4,
 "nbformat_minor": 4
}
